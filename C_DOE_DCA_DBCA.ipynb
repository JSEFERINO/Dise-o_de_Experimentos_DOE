{
  "cells": [
    {
      "cell_type": "markdown",
      "metadata": {
        "id": "view-in-github",
        "colab_type": "text"
      },
      "source": [
        "<a href=\"https://colab.research.google.com/github/JSEFERINO/Dise-o_de_Experimentos_DOE/blob/main/C_DOE_DCA_DBCA.ipynb\" target=\"_parent\"><img src=\"https://colab.research.google.com/assets/colab-badge.svg\" alt=\"Open In Colab\"/></a>"
      ]
    },
    {
      "cell_type": "markdown",
      "metadata": {
        "id": "OKPoQK5e2fS-"
      },
      "source": [
        "# **Diseño de Experimentos 2023**\n",
        "## **TEMA 1: Diseños completamente aleatorizados DCA**\n",
        "### **1.1 Librerias básicas**\n"
      ]
    },
    {
      "cell_type": "code",
      "execution_count": null,
      "metadata": {
        "id": "4VUZUNm41rSg"
      },
      "outputs": [],
      "source": [
        "import pandas as pd\n",
        "import numpy as np\n",
        "import matplotlib.pyplot as plt\n",
        "import matplotlib.colors as mcolors\n",
        "import seaborn as sns\n",
        "import statsmodels\n",
        "import statsmodels.api as sm\n",
        "from statsmodels.formula.api import ols\n",
        "from statsmodels.stats.multicomp import pairwise_tukeyhsd\n",
        "import statsmodels.formula.api as smf\n",
        "import scipy.stats as stats\n"
      ]
    },
    {
      "cell_type": "markdown",
      "metadata": {
        "id": "Sfqkn2PV25r1"
      },
      "source": [
        "### **1.2. El Problema**\n",
        "- **Un fabricante de calzado desea mejorar la calidad de las suelas,\n",
        "las cuales se pueden hacer con uno de los cuatro tipos de cuero A, B,\n",
        "C y D disponibles en el mercado. Para ello, prueba los cueros con\n",
        "una máquina que hace pasar los zapatos por una superficie abrasiva.\n",
        "La suela de los zapatos se desgasta al pasarla por dicha superficie.\n",
        "Como criterio de desgaste se usa la pérdida de peso después de un\n",
        "número fijo de ciclos. Se prueban en orden aleatorio 24 zapatos, seis\n",
        "de cada tipo de cuero. Al hacer las pruebas en orden completamente\n",
        "al azar se evitan sesgos y las mediciones en un tipo de cuero resultan\n",
        "independiente de las demás. Los datos (en mg) sobre el desgaste de\n",
        "cada tipo de cuero se muestran en la tabla siguiente:**\n",
        "\n",
        "|Tipo de cuero| |||Desgaste (mg)|||\n",
        "|:--:|:--:|:--:|:--:|:--:|:--:|:--:|\n",
        "|A| 264| 260| 258| 241| 262| 255|\n",
        "|B| 208| 220| 216| 200| 213| 206|\n",
        "|C| 220| 263| 219| 225| 230| 228|\n",
        "|D| 217| 226| 215| 224| 220| 222|\n",
        "\n",
        "#### **1.3 ¿Existen diferencias en el desgaste promedio de los diferentes tipos de cuero?**"
      ]
    },
    {
      "cell_type": "markdown",
      "metadata": {
        "id": "Ui4bueuJ-lFY"
      },
      "source": [
        "# **a. Los niveles del Factor como listas: Ingresamos los datos como filas**"
      ]
    },
    {
      "cell_type": "code",
      "execution_count": null,
      "metadata": {
        "id": "q12_cOpu2b4t"
      },
      "outputs": [],
      "source": [
        "# **a. Los niveles del Factor como listas**\n",
        "Cuero_A = [264, 260, 258, 241, 262, 255]\n",
        "Cuero_B =  [208, 220, 216, 200, 213, 206]\n",
        "Cuero_C = [220, 263, 219, 225, 230, 228]\n",
        "Cuero_D = [217, 226, 215, 224, 220, 222]"
      ]
    },
    {
      "cell_type": "markdown",
      "metadata": {
        "id": "-xWypJsy-tUU"
      },
      "source": [
        "# **b. Construimos el diccionario con los niveles del factor**"
      ]
    },
    {
      "cell_type": "code",
      "execution_count": null,
      "metadata": {
        "id": "24rsO_2o2b8F"
      },
      "outputs": [],
      "source": [
        "# **b. Construimos el diccionario con los niveles del factor**\n",
        "dic_Tipos_Cuero = {'Cuero_A':Cuero_A, 'Cuero_B':Cuero_B, 'Cuero_C':Cuero_C, 'Cuero_D':Cuero_D}"
      ]
    },
    {
      "cell_type": "markdown",
      "metadata": {
        "id": "iuwA7gRs-1AM"
      },
      "source": [
        "# **c. Nuestro DataFrame**"
      ]
    },
    {
      "cell_type": "code",
      "execution_count": null,
      "metadata": {
        "colab": {
          "base_uri": "https://localhost:8080/",
          "height": 238
        },
        "id": "gR2aT2yS2cAF",
        "outputId": "b873a663-13c0-416f-e996-e44ba8b3b248"
      },
      "outputs": [
        {
          "output_type": "execute_result",
          "data": {
            "text/plain": [
              "   Cuero_A  Cuero_B  Cuero_C  Cuero_D\n",
              "0      264      208      220      217\n",
              "1      260      220      263      226\n",
              "2      258      216      219      215\n",
              "3      241      200      225      224\n",
              "4      262      213      230      220\n",
              "5      255      206      228      222"
            ],
            "text/html": [
              "\n",
              "  <div id=\"df-a579572c-a72d-4281-bf7f-134988c4dab6\">\n",
              "    <div class=\"colab-df-container\">\n",
              "      <div>\n",
              "<style scoped>\n",
              "    .dataframe tbody tr th:only-of-type {\n",
              "        vertical-align: middle;\n",
              "    }\n",
              "\n",
              "    .dataframe tbody tr th {\n",
              "        vertical-align: top;\n",
              "    }\n",
              "\n",
              "    .dataframe thead th {\n",
              "        text-align: right;\n",
              "    }\n",
              "</style>\n",
              "<table border=\"1\" class=\"dataframe\">\n",
              "  <thead>\n",
              "    <tr style=\"text-align: right;\">\n",
              "      <th></th>\n",
              "      <th>Cuero_A</th>\n",
              "      <th>Cuero_B</th>\n",
              "      <th>Cuero_C</th>\n",
              "      <th>Cuero_D</th>\n",
              "    </tr>\n",
              "  </thead>\n",
              "  <tbody>\n",
              "    <tr>\n",
              "      <th>0</th>\n",
              "      <td>264</td>\n",
              "      <td>208</td>\n",
              "      <td>220</td>\n",
              "      <td>217</td>\n",
              "    </tr>\n",
              "    <tr>\n",
              "      <th>1</th>\n",
              "      <td>260</td>\n",
              "      <td>220</td>\n",
              "      <td>263</td>\n",
              "      <td>226</td>\n",
              "    </tr>\n",
              "    <tr>\n",
              "      <th>2</th>\n",
              "      <td>258</td>\n",
              "      <td>216</td>\n",
              "      <td>219</td>\n",
              "      <td>215</td>\n",
              "    </tr>\n",
              "    <tr>\n",
              "      <th>3</th>\n",
              "      <td>241</td>\n",
              "      <td>200</td>\n",
              "      <td>225</td>\n",
              "      <td>224</td>\n",
              "    </tr>\n",
              "    <tr>\n",
              "      <th>4</th>\n",
              "      <td>262</td>\n",
              "      <td>213</td>\n",
              "      <td>230</td>\n",
              "      <td>220</td>\n",
              "    </tr>\n",
              "    <tr>\n",
              "      <th>5</th>\n",
              "      <td>255</td>\n",
              "      <td>206</td>\n",
              "      <td>228</td>\n",
              "      <td>222</td>\n",
              "    </tr>\n",
              "  </tbody>\n",
              "</table>\n",
              "</div>\n",
              "      <button class=\"colab-df-convert\" onclick=\"convertToInteractive('df-a579572c-a72d-4281-bf7f-134988c4dab6')\"\n",
              "              title=\"Convert this dataframe to an interactive table.\"\n",
              "              style=\"display:none;\">\n",
              "        \n",
              "  <svg xmlns=\"http://www.w3.org/2000/svg\" height=\"24px\"viewBox=\"0 0 24 24\"\n",
              "       width=\"24px\">\n",
              "    <path d=\"M0 0h24v24H0V0z\" fill=\"none\"/>\n",
              "    <path d=\"M18.56 5.44l.94 2.06.94-2.06 2.06-.94-2.06-.94-.94-2.06-.94 2.06-2.06.94zm-11 1L8.5 8.5l.94-2.06 2.06-.94-2.06-.94L8.5 2.5l-.94 2.06-2.06.94zm10 10l.94 2.06.94-2.06 2.06-.94-2.06-.94-.94-2.06-.94 2.06-2.06.94z\"/><path d=\"M17.41 7.96l-1.37-1.37c-.4-.4-.92-.59-1.43-.59-.52 0-1.04.2-1.43.59L10.3 9.45l-7.72 7.72c-.78.78-.78 2.05 0 2.83L4 21.41c.39.39.9.59 1.41.59.51 0 1.02-.2 1.41-.59l7.78-7.78 2.81-2.81c.8-.78.8-2.07 0-2.86zM5.41 20L4 18.59l7.72-7.72 1.47 1.35L5.41 20z\"/>\n",
              "  </svg>\n",
              "      </button>\n",
              "      \n",
              "  <style>\n",
              "    .colab-df-container {\n",
              "      display:flex;\n",
              "      flex-wrap:wrap;\n",
              "      gap: 12px;\n",
              "    }\n",
              "\n",
              "    .colab-df-convert {\n",
              "      background-color: #E8F0FE;\n",
              "      border: none;\n",
              "      border-radius: 50%;\n",
              "      cursor: pointer;\n",
              "      display: none;\n",
              "      fill: #1967D2;\n",
              "      height: 32px;\n",
              "      padding: 0 0 0 0;\n",
              "      width: 32px;\n",
              "    }\n",
              "\n",
              "    .colab-df-convert:hover {\n",
              "      background-color: #E2EBFA;\n",
              "      box-shadow: 0px 1px 2px rgba(60, 64, 67, 0.3), 0px 1px 3px 1px rgba(60, 64, 67, 0.15);\n",
              "      fill: #174EA6;\n",
              "    }\n",
              "\n",
              "    [theme=dark] .colab-df-convert {\n",
              "      background-color: #3B4455;\n",
              "      fill: #D2E3FC;\n",
              "    }\n",
              "\n",
              "    [theme=dark] .colab-df-convert:hover {\n",
              "      background-color: #434B5C;\n",
              "      box-shadow: 0px 1px 3px 1px rgba(0, 0, 0, 0.15);\n",
              "      filter: drop-shadow(0px 1px 2px rgba(0, 0, 0, 0.3));\n",
              "      fill: #FFFFFF;\n",
              "    }\n",
              "  </style>\n",
              "\n",
              "      <script>\n",
              "        const buttonEl =\n",
              "          document.querySelector('#df-a579572c-a72d-4281-bf7f-134988c4dab6 button.colab-df-convert');\n",
              "        buttonEl.style.display =\n",
              "          google.colab.kernel.accessAllowed ? 'block' : 'none';\n",
              "\n",
              "        async function convertToInteractive(key) {\n",
              "          const element = document.querySelector('#df-a579572c-a72d-4281-bf7f-134988c4dab6');\n",
              "          const dataTable =\n",
              "            await google.colab.kernel.invokeFunction('convertToInteractive',\n",
              "                                                     [key], {});\n",
              "          if (!dataTable) return;\n",
              "\n",
              "          const docLinkHtml = 'Like what you see? Visit the ' +\n",
              "            '<a target=\"_blank\" href=https://colab.research.google.com/notebooks/data_table.ipynb>data table notebook</a>'\n",
              "            + ' to learn more about interactive tables.';\n",
              "          element.innerHTML = '';\n",
              "          dataTable['output_type'] = 'display_data';\n",
              "          await google.colab.output.renderOutput(dataTable, element);\n",
              "          const docLink = document.createElement('div');\n",
              "          docLink.innerHTML = docLinkHtml;\n",
              "          element.appendChild(docLink);\n",
              "        }\n",
              "      </script>\n",
              "    </div>\n",
              "  </div>\n",
              "  "
            ]
          },
          "metadata": {},
          "execution_count": 5
        }
      ],
      "source": [
        "# **c. Nuestro DataFrame**\n",
        "Desgaste = pd.DataFrame(dic_Tipos_Cuero)\n",
        "Desgaste"
      ]
    },
    {
      "cell_type": "markdown",
      "metadata": {
        "id": "EPTIvLisArm8"
      },
      "source": [
        "# **d. Accediendo al atributo shape, el cual me muestra la cantidad de filas y columnas**"
      ]
    },
    {
      "cell_type": "code",
      "execution_count": null,
      "metadata": {
        "colab": {
          "base_uri": "https://localhost:8080/"
        },
        "id": "jVB6KChk2cD1",
        "outputId": "8f8d913e-ce98-4ab2-c04f-0e634d0c0b9e"
      },
      "outputs": [
        {
          "output_type": "execute_result",
          "data": {
            "text/plain": [
              "(6, 4)"
            ]
          },
          "metadata": {},
          "execution_count": 6
        }
      ],
      "source": [
        "# **d. Accediendo al atributo shape, el cual me muestra la cantidad de filas y columnas**\n",
        "Desgaste.shape"
      ]
    },
    {
      "cell_type": "code",
      "execution_count": null,
      "metadata": {
        "colab": {
          "base_uri": "https://localhost:8080/"
        },
        "id": "GzGSPQs09JJZ",
        "outputId": "daa0bbb8-5c73-4652-8dee-eeb0dcc01eab"
      },
      "outputs": [
        {
          "output_type": "execute_result",
          "data": {
            "text/plain": [
              "RangeIndex(start=0, stop=6, step=1)"
            ]
          },
          "metadata": {},
          "execution_count": 7
        }
      ],
      "source": [
        "# igual resultad con accediendo al atributo index\n",
        "Desgaste.index"
      ]
    },
    {
      "cell_type": "markdown",
      "metadata": {
        "id": "o5yrfv7oA16e"
      },
      "source": [
        "# **e. Accediendo al atributo columns**"
      ]
    },
    {
      "cell_type": "code",
      "execution_count": null,
      "metadata": {
        "colab": {
          "base_uri": "https://localhost:8080/"
        },
        "id": "W0Jnc1qf9JNP",
        "outputId": "a41a099b-7b7e-42dc-f932-d0a1d7fd7df7"
      },
      "outputs": [
        {
          "output_type": "execute_result",
          "data": {
            "text/plain": [
              "Index(['Cuero_A', 'Cuero_B', 'Cuero_C', 'Cuero_D'], dtype='object')"
            ]
          },
          "metadata": {},
          "execution_count": 8
        }
      ],
      "source": [
        "# **e. Accediendo al atributo columns**\n",
        "Desgaste.columns"
      ]
    },
    {
      "cell_type": "markdown",
      "metadata": {
        "id": "t0E60j9rA8rb"
      },
      "source": [
        "# **f. accediendo al atributo tipo de datos de cada columna**"
      ]
    },
    {
      "cell_type": "code",
      "execution_count": null,
      "metadata": {
        "colab": {
          "base_uri": "https://localhost:8080/"
        },
        "id": "Lq5HPUcS9JRm",
        "outputId": "d33fa022-0c9f-44c6-88af-2d55866abeff"
      },
      "outputs": [
        {
          "output_type": "execute_result",
          "data": {
            "text/plain": [
              "Cuero_A    int64\n",
              "Cuero_B    int64\n",
              "Cuero_C    int64\n",
              "Cuero_D    int64\n",
              "dtype: object"
            ]
          },
          "metadata": {},
          "execution_count": 9
        }
      ],
      "source": [
        "# **f. accediendo al atributo tipo de datos de cada columna**\n",
        "Desgaste.dtypes"
      ]
    },
    {
      "cell_type": "markdown",
      "metadata": {
        "id": "p-ztxhHpBHG6"
      },
      "source": [
        "# **g. Análisis descriptivo de los datos del DataFrame**"
      ]
    },
    {
      "cell_type": "code",
      "execution_count": null,
      "metadata": {
        "colab": {
          "base_uri": "https://localhost:8080/",
          "height": 300
        },
        "id": "1Lh9BaAL9wZr",
        "outputId": "c181fbf7-6f94-4a80-df21-9ce390c749ec"
      },
      "outputs": [
        {
          "output_type": "execute_result",
          "data": {
            "text/plain": [
              "          Cuero_A     Cuero_B     Cuero_C     Cuero_D\n",
              "count    6.000000    6.000000    6.000000    6.000000\n",
              "mean   256.666667  210.500000  230.833333  220.666667\n",
              "std      8.286535    7.259477   16.339115    4.179314\n",
              "min    241.000000  200.000000  219.000000  215.000000\n",
              "25%    255.750000  206.500000  221.250000  217.750000\n",
              "50%    259.000000  210.500000  226.500000  221.000000\n",
              "75%    261.500000  215.250000  229.500000  223.500000\n",
              "max    264.000000  220.000000  263.000000  226.000000"
            ],
            "text/html": [
              "\n",
              "  <div id=\"df-f4cbd0f8-dd34-4a91-b698-c37193d755de\">\n",
              "    <div class=\"colab-df-container\">\n",
              "      <div>\n",
              "<style scoped>\n",
              "    .dataframe tbody tr th:only-of-type {\n",
              "        vertical-align: middle;\n",
              "    }\n",
              "\n",
              "    .dataframe tbody tr th {\n",
              "        vertical-align: top;\n",
              "    }\n",
              "\n",
              "    .dataframe thead th {\n",
              "        text-align: right;\n",
              "    }\n",
              "</style>\n",
              "<table border=\"1\" class=\"dataframe\">\n",
              "  <thead>\n",
              "    <tr style=\"text-align: right;\">\n",
              "      <th></th>\n",
              "      <th>Cuero_A</th>\n",
              "      <th>Cuero_B</th>\n",
              "      <th>Cuero_C</th>\n",
              "      <th>Cuero_D</th>\n",
              "    </tr>\n",
              "  </thead>\n",
              "  <tbody>\n",
              "    <tr>\n",
              "      <th>count</th>\n",
              "      <td>6.000000</td>\n",
              "      <td>6.000000</td>\n",
              "      <td>6.000000</td>\n",
              "      <td>6.000000</td>\n",
              "    </tr>\n",
              "    <tr>\n",
              "      <th>mean</th>\n",
              "      <td>256.666667</td>\n",
              "      <td>210.500000</td>\n",
              "      <td>230.833333</td>\n",
              "      <td>220.666667</td>\n",
              "    </tr>\n",
              "    <tr>\n",
              "      <th>std</th>\n",
              "      <td>8.286535</td>\n",
              "      <td>7.259477</td>\n",
              "      <td>16.339115</td>\n",
              "      <td>4.179314</td>\n",
              "    </tr>\n",
              "    <tr>\n",
              "      <th>min</th>\n",
              "      <td>241.000000</td>\n",
              "      <td>200.000000</td>\n",
              "      <td>219.000000</td>\n",
              "      <td>215.000000</td>\n",
              "    </tr>\n",
              "    <tr>\n",
              "      <th>25%</th>\n",
              "      <td>255.750000</td>\n",
              "      <td>206.500000</td>\n",
              "      <td>221.250000</td>\n",
              "      <td>217.750000</td>\n",
              "    </tr>\n",
              "    <tr>\n",
              "      <th>50%</th>\n",
              "      <td>259.000000</td>\n",
              "      <td>210.500000</td>\n",
              "      <td>226.500000</td>\n",
              "      <td>221.000000</td>\n",
              "    </tr>\n",
              "    <tr>\n",
              "      <th>75%</th>\n",
              "      <td>261.500000</td>\n",
              "      <td>215.250000</td>\n",
              "      <td>229.500000</td>\n",
              "      <td>223.500000</td>\n",
              "    </tr>\n",
              "    <tr>\n",
              "      <th>max</th>\n",
              "      <td>264.000000</td>\n",
              "      <td>220.000000</td>\n",
              "      <td>263.000000</td>\n",
              "      <td>226.000000</td>\n",
              "    </tr>\n",
              "  </tbody>\n",
              "</table>\n",
              "</div>\n",
              "      <button class=\"colab-df-convert\" onclick=\"convertToInteractive('df-f4cbd0f8-dd34-4a91-b698-c37193d755de')\"\n",
              "              title=\"Convert this dataframe to an interactive table.\"\n",
              "              style=\"display:none;\">\n",
              "        \n",
              "  <svg xmlns=\"http://www.w3.org/2000/svg\" height=\"24px\"viewBox=\"0 0 24 24\"\n",
              "       width=\"24px\">\n",
              "    <path d=\"M0 0h24v24H0V0z\" fill=\"none\"/>\n",
              "    <path d=\"M18.56 5.44l.94 2.06.94-2.06 2.06-.94-2.06-.94-.94-2.06-.94 2.06-2.06.94zm-11 1L8.5 8.5l.94-2.06 2.06-.94-2.06-.94L8.5 2.5l-.94 2.06-2.06.94zm10 10l.94 2.06.94-2.06 2.06-.94-2.06-.94-.94-2.06-.94 2.06-2.06.94z\"/><path d=\"M17.41 7.96l-1.37-1.37c-.4-.4-.92-.59-1.43-.59-.52 0-1.04.2-1.43.59L10.3 9.45l-7.72 7.72c-.78.78-.78 2.05 0 2.83L4 21.41c.39.39.9.59 1.41.59.51 0 1.02-.2 1.41-.59l7.78-7.78 2.81-2.81c.8-.78.8-2.07 0-2.86zM5.41 20L4 18.59l7.72-7.72 1.47 1.35L5.41 20z\"/>\n",
              "  </svg>\n",
              "      </button>\n",
              "      \n",
              "  <style>\n",
              "    .colab-df-container {\n",
              "      display:flex;\n",
              "      flex-wrap:wrap;\n",
              "      gap: 12px;\n",
              "    }\n",
              "\n",
              "    .colab-df-convert {\n",
              "      background-color: #E8F0FE;\n",
              "      border: none;\n",
              "      border-radius: 50%;\n",
              "      cursor: pointer;\n",
              "      display: none;\n",
              "      fill: #1967D2;\n",
              "      height: 32px;\n",
              "      padding: 0 0 0 0;\n",
              "      width: 32px;\n",
              "    }\n",
              "\n",
              "    .colab-df-convert:hover {\n",
              "      background-color: #E2EBFA;\n",
              "      box-shadow: 0px 1px 2px rgba(60, 64, 67, 0.3), 0px 1px 3px 1px rgba(60, 64, 67, 0.15);\n",
              "      fill: #174EA6;\n",
              "    }\n",
              "\n",
              "    [theme=dark] .colab-df-convert {\n",
              "      background-color: #3B4455;\n",
              "      fill: #D2E3FC;\n",
              "    }\n",
              "\n",
              "    [theme=dark] .colab-df-convert:hover {\n",
              "      background-color: #434B5C;\n",
              "      box-shadow: 0px 1px 3px 1px rgba(0, 0, 0, 0.15);\n",
              "      filter: drop-shadow(0px 1px 2px rgba(0, 0, 0, 0.3));\n",
              "      fill: #FFFFFF;\n",
              "    }\n",
              "  </style>\n",
              "\n",
              "      <script>\n",
              "        const buttonEl =\n",
              "          document.querySelector('#df-f4cbd0f8-dd34-4a91-b698-c37193d755de button.colab-df-convert');\n",
              "        buttonEl.style.display =\n",
              "          google.colab.kernel.accessAllowed ? 'block' : 'none';\n",
              "\n",
              "        async function convertToInteractive(key) {\n",
              "          const element = document.querySelector('#df-f4cbd0f8-dd34-4a91-b698-c37193d755de');\n",
              "          const dataTable =\n",
              "            await google.colab.kernel.invokeFunction('convertToInteractive',\n",
              "                                                     [key], {});\n",
              "          if (!dataTable) return;\n",
              "\n",
              "          const docLinkHtml = 'Like what you see? Visit the ' +\n",
              "            '<a target=\"_blank\" href=https://colab.research.google.com/notebooks/data_table.ipynb>data table notebook</a>'\n",
              "            + ' to learn more about interactive tables.';\n",
              "          element.innerHTML = '';\n",
              "          dataTable['output_type'] = 'display_data';\n",
              "          await google.colab.output.renderOutput(dataTable, element);\n",
              "          const docLink = document.createElement('div');\n",
              "          docLink.innerHTML = docLinkHtml;\n",
              "          element.appendChild(docLink);\n",
              "        }\n",
              "      </script>\n",
              "    </div>\n",
              "  </div>\n",
              "  "
            ]
          },
          "metadata": {},
          "execution_count": 10
        }
      ],
      "source": [
        "# **g. Análisis descriptivo de los datos del DataFrame**\n",
        "Desgaste.describe()"
      ]
    },
    {
      "cell_type": "markdown",
      "metadata": {
        "id": "9v0n-l1kBPqV"
      },
      "source": [
        "# **h. Haciendo el analisis boxplot**"
      ]
    },
    {
      "cell_type": "code",
      "execution_count": null,
      "metadata": {
        "colab": {
          "base_uri": "https://localhost:8080/",
          "height": 447
        },
        "id": "3ukcCIod9wdl",
        "outputId": "549f0c81-b444-4051-df44-99d12cf1267e"
      },
      "outputs": [
        {
          "output_type": "execute_result",
          "data": {
            "text/plain": [
              "<Axes: >"
            ]
          },
          "metadata": {},
          "execution_count": 11
        },
        {
          "output_type": "display_data",
          "data": {
            "text/plain": [
              "<Figure size 640x480 with 1 Axes>"
            ],
            "image/png": "[encoded data removed]"
          },
          "metadata": {}
        }
      ],
      "source": [
        "# **h. Haciendo el analisis descriptivo**\n",
        "Desgaste.plot.box()"
      ]
    },
    {
      "cell_type": "code",
      "execution_count": null,
      "metadata": {
        "colab": {
          "base_uri": "https://localhost:8080/"
        },
        "id": "QefMyMbg9whS",
        "outputId": "cc0f49b1-c166-4de0-9e88-8079fff55195"
      },
      "outputs": [
        {
          "output_type": "execute_result",
          "data": {
            "text/plain": [
              "Cuero_A\n",
              "241    1\n",
              "255    1\n",
              "258    1\n",
              "260    1\n",
              "262    1\n",
              "264    1\n",
              "dtype: int64"
            ]
          },
          "metadata": {},
          "execution_count": 12
        }
      ],
      "source": [
        "# Número de observaciones por grupo\n",
        "# ==============================================================================\n",
        "Desgaste.groupby('Cuero_A').size()"
      ]
    },
    {
      "cell_type": "markdown",
      "metadata": {
        "id": "e7hJhkxdBshE"
      },
      "source": [
        "# **i. Reescribiendo el DataFrame**"
      ]
    },
    {
      "cell_type": "code",
      "execution_count": null,
      "metadata": {
        "colab": {
          "base_uri": "https://localhost:8080/"
        },
        "id": "hx7dgqeT9woz",
        "outputId": "24c3b50a-80fa-4612-899a-a872509029b7"
      },
      "outputs": [
        {
          "output_type": "execute_result",
          "data": {
            "text/plain": [
              "['A',\n",
              " 'A',\n",
              " 'A',\n",
              " 'A',\n",
              " 'A',\n",
              " 'A',\n",
              " 'B',\n",
              " 'B',\n",
              " 'B',\n",
              " 'B',\n",
              " 'B',\n",
              " 'B',\n",
              " 'C',\n",
              " 'C',\n",
              " 'C',\n",
              " 'C',\n",
              " 'C',\n",
              " 'C',\n",
              " 'D',\n",
              " 'D',\n",
              " 'D',\n",
              " 'D',\n",
              " 'D',\n",
              " 'D']"
            ]
          },
          "metadata": {},
          "execution_count": 13
        }
      ],
      "source": [
        "# **i. Reescribiendo el DataFrame**\n",
        "Tipo_Cuero = (['A']*6+['B']*6+['C']*6+['D']*6)\n",
        "Tipo_Cuero"
      ]
    },
    {
      "cell_type": "code",
      "execution_count": null,
      "metadata": {
        "id": "PnVYKtgz9wtE"
      },
      "outputs": [],
      "source": [
        "Desgaste = [264, 260, 258, 241, 262, 255, 208, 220, 216, 200, 213, 206, 220, 263, 219, 225, 230, 228, 217, 226, 215, 224, 220, 222]"
      ]
    },
    {
      "cell_type": "code",
      "execution_count": null,
      "metadata": {
        "colab": {
          "base_uri": "https://localhost:8080/",
          "height": 802
        },
        "id": "CKri07_4WTEG",
        "outputId": "fa9be3f1-d493-4271-d0be-9e603b4ad84d"
      },
      "outputs": [
        {
          "output_type": "execute_result",
          "data": {
            "text/plain": [
              "   Tipo_Cuero  Desgaste\n",
              "0           A       264\n",
              "1           A       260\n",
              "2           A       258\n",
              "3           A       241\n",
              "4           A       262\n",
              "5           A       255\n",
              "6           B       208\n",
              "7           B       220\n",
              "8           B       216\n",
              "9           B       200\n",
              "10          B       213\n",
              "11          B       206\n",
              "12          C       220\n",
              "13          C       263\n",
              "14          C       219\n",
              "15          C       225\n",
              "16          C       230\n",
              "17          C       228\n",
              "18          D       217\n",
              "19          D       226\n",
              "20          D       215\n",
              "21          D       224\n",
              "22          D       220\n",
              "23          D       222"
            ],
            "text/html": [
              "\n",
              "  <div id=\"df-1a0cdfeb-7c21-4968-8c77-567a0ce1cae2\">\n",
              "    <div class=\"colab-df-container\">\n",
              "      <div>\n",
              "<style scoped>\n",
              "    .dataframe tbody tr th:only-of-type {\n",
              "        vertical-align: middle;\n",
              "    }\n",
              "\n",
              "    .dataframe tbody tr th {\n",
              "        vertical-align: top;\n",
              "    }\n",
              "\n",
              "    .dataframe thead th {\n",
              "        text-align: right;\n",
              "    }\n",
              "</style>\n",
              "<table border=\"1\" class=\"dataframe\">\n",
              "  <thead>\n",
              "    <tr style=\"text-align: right;\">\n",
              "      <th></th>\n",
              "      <th>Tipo_Cuero</th>\n",
              "      <th>Desgaste</th>\n",
              "    </tr>\n",
              "  </thead>\n",
              "  <tbody>\n",
              "    <tr>\n",
              "      <th>0</th>\n",
              "      <td>A</td>\n",
              "      <td>264</td>\n",
              "    </tr>\n",
              "    <tr>\n",
              "      <th>1</th>\n",
              "      <td>A</td>\n",
              "      <td>260</td>\n",
              "    </tr>\n",
              "    <tr>\n",
              "      <th>2</th>\n",
              "      <td>A</td>\n",
              "      <td>258</td>\n",
              "    </tr>\n",
              "    <tr>\n",
              "      <th>3</th>\n",
              "      <td>A</td>\n",
              "      <td>241</td>\n",
              "    </tr>\n",
              "    <tr>\n",
              "      <th>4</th>\n",
              "      <td>A</td>\n",
              "      <td>262</td>\n",
              "    </tr>\n",
              "    <tr>\n",
              "      <th>5</th>\n",
              "      <td>A</td>\n",
              "      <td>255</td>\n",
              "    </tr>\n",
              "    <tr>\n",
              "      <th>6</th>\n",
              "      <td>B</td>\n",
              "      <td>208</td>\n",
              "    </tr>\n",
              "    <tr>\n",
              "      <th>7</th>\n",
              "      <td>B</td>\n",
              "      <td>220</td>\n",
              "    </tr>\n",
              "    <tr>\n",
              "      <th>8</th>\n",
              "      <td>B</td>\n",
              "      <td>216</td>\n",
              "    </tr>\n",
              "    <tr>\n",
              "      <th>9</th>\n",
              "      <td>B</td>\n",
              "      <td>200</td>\n",
              "    </tr>\n",
              "    <tr>\n",
              "      <th>10</th>\n",
              "      <td>B</td>\n",
              "      <td>213</td>\n",
              "    </tr>\n",
              "    <tr>\n",
              "      <th>11</th>\n",
              "      <td>B</td>\n",
              "      <td>206</td>\n",
              "    </tr>\n",
              "    <tr>\n",
              "      <th>12</th>\n",
              "      <td>C</td>\n",
              "      <td>220</td>\n",
              "    </tr>\n",
              "    <tr>\n",
              "      <th>13</th>\n",
              "      <td>C</td>\n",
              "      <td>263</td>\n",
              "    </tr>\n",
              "    <tr>\n",
              "      <th>14</th>\n",
              "      <td>C</td>\n",
              "      <td>219</td>\n",
              "    </tr>\n",
              "    <tr>\n",
              "      <th>15</th>\n",
              "      <td>C</td>\n",
              "      <td>225</td>\n",
              "    </tr>\n",
              "    <tr>\n",
              "      <th>16</th>\n",
              "      <td>C</td>\n",
              "      <td>230</td>\n",
              "    </tr>\n",
              "    <tr>\n",
              "      <th>17</th>\n",
              "      <td>C</td>\n",
              "      <td>228</td>\n",
              "    </tr>\n",
              "    <tr>\n",
              "      <th>18</th>\n",
              "      <td>D</td>\n",
              "      <td>217</td>\n",
              "    </tr>\n",
              "    <tr>\n",
              "      <th>19</th>\n",
              "      <td>D</td>\n",
              "      <td>226</td>\n",
              "    </tr>\n",
              "    <tr>\n",
              "      <th>20</th>\n",
              "      <td>D</td>\n",
              "      <td>215</td>\n",
              "    </tr>\n",
              "    <tr>\n",
              "      <th>21</th>\n",
              "      <td>D</td>\n",
              "      <td>224</td>\n",
              "    </tr>\n",
              "    <tr>\n",
              "      <th>22</th>\n",
              "      <td>D</td>\n",
              "      <td>220</td>\n",
              "    </tr>\n",
              "    <tr>\n",
              "      <th>23</th>\n",
              "      <td>D</td>\n",
              "      <td>222</td>\n",
              "    </tr>\n",
              "  </tbody>\n",
              "</table>\n",
              "</div>\n",
              "      <button class=\"colab-df-convert\" onclick=\"convertToInteractive('df-1a0cdfeb-7c21-4968-8c77-567a0ce1cae2')\"\n",
              "              title=\"Convert this dataframe to an interactive table.\"\n",
              "              style=\"display:none;\">\n",
              "        \n",
              "  <svg xmlns=\"http://www.w3.org/2000/svg\" height=\"24px\"viewBox=\"0 0 24 24\"\n",
              "       width=\"24px\">\n",
              "    <path d=\"M0 0h24v24H0V0z\" fill=\"none\"/>\n",
              "    <path d=\"M18.56 5.44l.94 2.06.94-2.06 2.06-.94-2.06-.94-.94-2.06-.94 2.06-2.06.94zm-11 1L8.5 8.5l.94-2.06 2.06-.94-2.06-.94L8.5 2.5l-.94 2.06-2.06.94zm10 10l.94 2.06.94-2.06 2.06-.94-2.06-.94-.94-2.06-.94 2.06-2.06.94z\"/><path d=\"M17.41 7.96l-1.37-1.37c-.4-.4-.92-.59-1.43-.59-.52 0-1.04.2-1.43.59L10.3 9.45l-7.72 7.72c-.78.78-.78 2.05 0 2.83L4 21.41c.39.39.9.59 1.41.59.51 0 1.02-.2 1.41-.59l7.78-7.78 2.81-2.81c.8-.78.8-2.07 0-2.86zM5.41 20L4 18.59l7.72-7.72 1.47 1.35L5.41 20z\"/>\n",
              "  </svg>\n",
              "      </button>\n",
              "      \n",
              "  <style>\n",
              "    .colab-df-container {\n",
              "      display:flex;\n",
              "      flex-wrap:wrap;\n",
              "      gap: 12px;\n",
              "    }\n",
              "\n",
              "    .colab-df-convert {\n",
              "      background-color: #E8F0FE;\n",
              "      border: none;\n",
              "      border-radius: 50%;\n",
              "      cursor: pointer;\n",
              "      display: none;\n",
              "      fill: #1967D2;\n",
              "      height: 32px;\n",
              "      padding: 0 0 0 0;\n",
              "      width: 32px;\n",
              "    }\n",
              "\n",
              "    .colab-df-convert:hover {\n",
              "      background-color: #E2EBFA;\n",
              "      box-shadow: 0px 1px 2px rgba(60, 64, 67, 0.3), 0px 1px 3px 1px rgba(60, 64, 67, 0.15);\n",
              "      fill: #174EA6;\n",
              "    }\n",
              "\n",
              "    [theme=dark] .colab-df-convert {\n",
              "      background-color: #3B4455;\n",
              "      fill: #D2E3FC;\n",
              "    }\n",
              "\n",
              "    [theme=dark] .colab-df-convert:hover {\n",
              "      background-color: #434B5C;\n",
              "      box-shadow: 0px 1px 3px 1px rgba(0, 0, 0, 0.15);\n",
              "      filter: drop-shadow(0px 1px 2px rgba(0, 0, 0, 0.3));\n",
              "      fill: #FFFFFF;\n",
              "    }\n",
              "  </style>\n",
              "\n",
              "      <script>\n",
              "        const buttonEl =\n",
              "          document.querySelector('#df-1a0cdfeb-7c21-4968-8c77-567a0ce1cae2 button.colab-df-convert');\n",
              "        buttonEl.style.display =\n",
              "          google.colab.kernel.accessAllowed ? 'block' : 'none';\n",
              "\n",
              "        async function convertToInteractive(key) {\n",
              "          const element = document.querySelector('#df-1a0cdfeb-7c21-4968-8c77-567a0ce1cae2');\n",
              "          const dataTable =\n",
              "            await google.colab.kernel.invokeFunction('convertToInteractive',\n",
              "                                                     [key], {});\n",
              "          if (!dataTable) return;\n",
              "\n",
              "          const docLinkHtml = 'Like what you see? Visit the ' +\n",
              "            '<a target=\"_blank\" href=https://colab.research.google.com/notebooks/data_table.ipynb>data table notebook</a>'\n",
              "            + ' to learn more about interactive tables.';\n",
              "          element.innerHTML = '';\n",
              "          dataTable['output_type'] = 'display_data';\n",
              "          await google.colab.output.renderOutput(dataTable, element);\n",
              "          const docLink = document.createElement('div');\n",
              "          docLink.innerHTML = docLinkHtml;\n",
              "          element.appendChild(docLink);\n",
              "        }\n",
              "      </script>\n",
              "    </div>\n",
              "  </div>\n",
              "  "
            ]
          },
          "metadata": {},
          "execution_count": 15
        }
      ],
      "source": [
        "DCA  = pd.DataFrame({'Tipo_Cuero': Tipo_Cuero, 'Desgaste': Desgaste})\n",
        "DCA"
      ]
    },
    {
      "cell_type": "markdown",
      "metadata": {
        "id": "YkHzUKl0CRou"
      },
      "source": [
        "# **j. Analisis descriptivo de la variable**"
      ]
    },
    {
      "cell_type": "code",
      "execution_count": null,
      "metadata": {
        "colab": {
          "base_uri": "https://localhost:8080/",
          "height": 300
        },
        "id": "mFbWf0ZCWTN7",
        "outputId": "9fe78156-2d2d-4198-8d40-8b8c9067bc79"
      },
      "outputs": [
        {
          "output_type": "execute_result",
          "data": {
            "text/plain": [
              "         Desgaste\n",
              "count   24.000000\n",
              "mean   229.666667\n",
              "std     19.892465\n",
              "min    200.000000\n",
              "25%    216.750000\n",
              "50%    223.000000\n",
              "75%    244.500000\n",
              "max    264.000000"
            ],
            "text/html": [
              "\n",
              "  <div id=\"df-4371b5c8-724f-477e-8bf9-a17797140681\">\n",
              "    <div class=\"colab-df-container\">\n",
              "      <div>\n",
              "<style scoped>\n",
              "    .dataframe tbody tr th:only-of-type {\n",
              "        vertical-align: middle;\n",
              "    }\n",
              "\n",
              "    .dataframe tbody tr th {\n",
              "        vertical-align: top;\n",
              "    }\n",
              "\n",
              "    .dataframe thead th {\n",
              "        text-align: right;\n",
              "    }\n",
              "</style>\n",
              "<table border=\"1\" class=\"dataframe\">\n",
              "  <thead>\n",
              "    <tr style=\"text-align: right;\">\n",
              "      <th></th>\n",
              "      <th>Desgaste</th>\n",
              "    </tr>\n",
              "  </thead>\n",
              "  <tbody>\n",
              "    <tr>\n",
              "      <th>count</th>\n",
              "      <td>24.000000</td>\n",
              "    </tr>\n",
              "    <tr>\n",
              "      <th>mean</th>\n",
              "      <td>229.666667</td>\n",
              "    </tr>\n",
              "    <tr>\n",
              "      <th>std</th>\n",
              "      <td>19.892465</td>\n",
              "    </tr>\n",
              "    <tr>\n",
              "      <th>min</th>\n",
              "      <td>200.000000</td>\n",
              "    </tr>\n",
              "    <tr>\n",
              "      <th>25%</th>\n",
              "      <td>216.750000</td>\n",
              "    </tr>\n",
              "    <tr>\n",
              "      <th>50%</th>\n",
              "      <td>223.000000</td>\n",
              "    </tr>\n",
              "    <tr>\n",
              "      <th>75%</th>\n",
              "      <td>244.500000</td>\n",
              "    </tr>\n",
              "    <tr>\n",
              "      <th>max</th>\n",
              "      <td>264.000000</td>\n",
              "    </tr>\n",
              "  </tbody>\n",
              "</table>\n",
              "</div>\n",
              "      <button class=\"colab-df-convert\" onclick=\"convertToInteractive('df-4371b5c8-724f-477e-8bf9-a17797140681')\"\n",
              "              title=\"Convert this dataframe to an interactive table.\"\n",
              "              style=\"display:none;\">\n",
              "        \n",
              "  <svg xmlns=\"http://www.w3.org/2000/svg\" height=\"24px\"viewBox=\"0 0 24 24\"\n",
              "       width=\"24px\">\n",
              "    <path d=\"M0 0h24v24H0V0z\" fill=\"none\"/>\n",
              "    <path d=\"M18.56 5.44l.94 2.06.94-2.06 2.06-.94-2.06-.94-.94-2.06-.94 2.06-2.06.94zm-11 1L8.5 8.5l.94-2.06 2.06-.94-2.06-.94L8.5 2.5l-.94 2.06-2.06.94zm10 10l.94 2.06.94-2.06 2.06-.94-2.06-.94-.94-2.06-.94 2.06-2.06.94z\"/><path d=\"M17.41 7.96l-1.37-1.37c-.4-.4-.92-.59-1.43-.59-.52 0-1.04.2-1.43.59L10.3 9.45l-7.72 7.72c-.78.78-.78 2.05 0 2.83L4 21.41c.39.39.9.59 1.41.59.51 0 1.02-.2 1.41-.59l7.78-7.78 2.81-2.81c.8-.78.8-2.07 0-2.86zM5.41 20L4 18.59l7.72-7.72 1.47 1.35L5.41 20z\"/>\n",
              "  </svg>\n",
              "      </button>\n",
              "      \n",
              "  <style>\n",
              "    .colab-df-container {\n",
              "      display:flex;\n",
              "      flex-wrap:wrap;\n",
              "      gap: 12px;\n",
              "    }\n",
              "\n",
              "    .colab-df-convert {\n",
              "      background-color: #E8F0FE;\n",
              "      border: none;\n",
              "      border-radius: 50%;\n",
              "      cursor: pointer;\n",
              "      display: none;\n",
              "      fill: #1967D2;\n",
              "      height: 32px;\n",
              "      padding: 0 0 0 0;\n",
              "      width: 32px;\n",
              "    }\n",
              "\n",
              "    .colab-df-convert:hover {\n",
              "      background-color: #E2EBFA;\n",
              "      box-shadow: 0px 1px 2px rgba(60, 64, 67, 0.3), 0px 1px 3px 1px rgba(60, 64, 67, 0.15);\n",
              "      fill: #174EA6;\n",
              "    }\n",
              "\n",
              "    [theme=dark] .colab-df-convert {\n",
              "      background-color: #3B4455;\n",
              "      fill: #D2E3FC;\n",
              "    }\n",
              "\n",
              "    [theme=dark] .colab-df-convert:hover {\n",
              "      background-color: #434B5C;\n",
              "      box-shadow: 0px 1px 3px 1px rgba(0, 0, 0, 0.15);\n",
              "      filter: drop-shadow(0px 1px 2px rgba(0, 0, 0, 0.3));\n",
              "      fill: #FFFFFF;\n",
              "    }\n",
              "  </style>\n",
              "\n",
              "      <script>\n",
              "        const buttonEl =\n",
              "          document.querySelector('#df-4371b5c8-724f-477e-8bf9-a17797140681 button.colab-df-convert');\n",
              "        buttonEl.style.display =\n",
              "          google.colab.kernel.accessAllowed ? 'block' : 'none';\n",
              "\n",
              "        async function convertToInteractive(key) {\n",
              "          const element = document.querySelector('#df-4371b5c8-724f-477e-8bf9-a17797140681');\n",
              "          const dataTable =\n",
              "            await google.colab.kernel.invokeFunction('convertToInteractive',\n",
              "                                                     [key], {});\n",
              "          if (!dataTable) return;\n",
              "\n",
              "          const docLinkHtml = 'Like what you see? Visit the ' +\n",
              "            '<a target=\"_blank\" href=https://colab.research.google.com/notebooks/data_table.ipynb>data table notebook</a>'\n",
              "            + ' to learn more about interactive tables.';\n",
              "          element.innerHTML = '';\n",
              "          dataTable['output_type'] = 'display_data';\n",
              "          await google.colab.output.renderOutput(dataTable, element);\n",
              "          const docLink = document.createElement('div');\n",
              "          docLink.innerHTML = docLinkHtml;\n",
              "          element.appendChild(docLink);\n",
              "        }\n",
              "      </script>\n",
              "    </div>\n",
              "  </div>\n",
              "  "
            ]
          },
          "metadata": {},
          "execution_count": 16
        }
      ],
      "source": [
        "# **j. Analisis descriptivo de la variable**\n",
        "DCA.describe()"
      ]
    },
    {
      "cell_type": "markdown",
      "source": [
        "## **Precio Desgaste y desviación típica por Tipo_Cuero**"
      ],
      "metadata": {
        "id": "FuI3YHqK8LrR"
      }
    },
    {
      "cell_type": "code",
      "source": [
        "## **Precio Desgaste y desviación típica por Tipo_Cuero**\n",
        "DCA.groupby('Tipo_Cuero')['Desgaste'].agg(['mean', 'std', 'min', 'max'])"
      ],
      "metadata": {
        "colab": {
          "base_uri": "https://localhost:8080/",
          "height": 206
        },
        "id": "qvr0TitV6St2",
        "outputId": "543ec039-0df5-4881-bd11-7cca97ced860"
      },
      "execution_count": null,
      "outputs": [
        {
          "output_type": "execute_result",
          "data": {
            "text/plain": [
              "                  mean        std  min  max\n",
              "Tipo_Cuero                                 \n",
              "A           256.666667   8.286535  241  264\n",
              "B           210.500000   7.259477  200  220\n",
              "C           230.833333  16.339115  219  263\n",
              "D           220.666667   4.179314  215  226"
            ],
            "text/html": [
              "\n",
              "  <div id=\"df-18e8f76c-9b85-4b05-9656-f19fc651a56a\">\n",
              "    <div class=\"colab-df-container\">\n",
              "      <div>\n",
              "<style scoped>\n",
              "    .dataframe tbody tr th:only-of-type {\n",
              "        vertical-align: middle;\n",
              "    }\n",
              "\n",
              "    .dataframe tbody tr th {\n",
              "        vertical-align: top;\n",
              "    }\n",
              "\n",
              "    .dataframe thead th {\n",
              "        text-align: right;\n",
              "    }\n",
              "</style>\n",
              "<table border=\"1\" class=\"dataframe\">\n",
              "  <thead>\n",
              "    <tr style=\"text-align: right;\">\n",
              "      <th></th>\n",
              "      <th>mean</th>\n",
              "      <th>std</th>\n",
              "      <th>min</th>\n",
              "      <th>max</th>\n",
              "    </tr>\n",
              "    <tr>\n",
              "      <th>Tipo_Cuero</th>\n",
              "      <th></th>\n",
              "      <th></th>\n",
              "      <th></th>\n",
              "      <th></th>\n",
              "    </tr>\n",
              "  </thead>\n",
              "  <tbody>\n",
              "    <tr>\n",
              "      <th>A</th>\n",
              "      <td>256.666667</td>\n",
              "      <td>8.286535</td>\n",
              "      <td>241</td>\n",
              "      <td>264</td>\n",
              "    </tr>\n",
              "    <tr>\n",
              "      <th>B</th>\n",
              "      <td>210.500000</td>\n",
              "      <td>7.259477</td>\n",
              "      <td>200</td>\n",
              "      <td>220</td>\n",
              "    </tr>\n",
              "    <tr>\n",
              "      <th>C</th>\n",
              "      <td>230.833333</td>\n",
              "      <td>16.339115</td>\n",
              "      <td>219</td>\n",
              "      <td>263</td>\n",
              "    </tr>\n",
              "    <tr>\n",
              "      <th>D</th>\n",
              "      <td>220.666667</td>\n",
              "      <td>4.179314</td>\n",
              "      <td>215</td>\n",
              "      <td>226</td>\n",
              "    </tr>\n",
              "  </tbody>\n",
              "</table>\n",
              "</div>\n",
              "      <button class=\"colab-df-convert\" onclick=\"convertToInteractive('df-18e8f76c-9b85-4b05-9656-f19fc651a56a')\"\n",
              "              title=\"Convert this dataframe to an interactive table.\"\n",
              "              style=\"display:none;\">\n",
              "        \n",
              "  <svg xmlns=\"http://www.w3.org/2000/svg\" height=\"24px\"viewBox=\"0 0 24 24\"\n",
              "       width=\"24px\">\n",
              "    <path d=\"M0 0h24v24H0V0z\" fill=\"none\"/>\n",
              "    <path d=\"M18.56 5.44l.94 2.06.94-2.06 2.06-.94-2.06-.94-.94-2.06-.94 2.06-2.06.94zm-11 1L8.5 8.5l.94-2.06 2.06-.94-2.06-.94L8.5 2.5l-.94 2.06-2.06.94zm10 10l.94 2.06.94-2.06 2.06-.94-2.06-.94-.94-2.06-.94 2.06-2.06.94z\"/><path d=\"M17.41 7.96l-1.37-1.37c-.4-.4-.92-.59-1.43-.59-.52 0-1.04.2-1.43.59L10.3 9.45l-7.72 7.72c-.78.78-.78 2.05 0 2.83L4 21.41c.39.39.9.59 1.41.59.51 0 1.02-.2 1.41-.59l7.78-7.78 2.81-2.81c.8-.78.8-2.07 0-2.86zM5.41 20L4 18.59l7.72-7.72 1.47 1.35L5.41 20z\"/>\n",
              "  </svg>\n",
              "      </button>\n",
              "      \n",
              "  <style>\n",
              "    .colab-df-container {\n",
              "      display:flex;\n",
              "      flex-wrap:wrap;\n",
              "      gap: 12px;\n",
              "    }\n",
              "\n",
              "    .colab-df-convert {\n",
              "      background-color: #E8F0FE;\n",
              "      border: none;\n",
              "      border-radius: 50%;\n",
              "      cursor: pointer;\n",
              "      display: none;\n",
              "      fill: #1967D2;\n",
              "      height: 32px;\n",
              "      padding: 0 0 0 0;\n",
              "      width: 32px;\n",
              "    }\n",
              "\n",
              "    .colab-df-convert:hover {\n",
              "      background-color: #E2EBFA;\n",
              "      box-shadow: 0px 1px 2px rgba(60, 64, 67, 0.3), 0px 1px 3px 1px rgba(60, 64, 67, 0.15);\n",
              "      fill: #174EA6;\n",
              "    }\n",
              "\n",
              "    [theme=dark] .colab-df-convert {\n",
              "      background-color: #3B4455;\n",
              "      fill: #D2E3FC;\n",
              "    }\n",
              "\n",
              "    [theme=dark] .colab-df-convert:hover {\n",
              "      background-color: #434B5C;\n",
              "      box-shadow: 0px 1px 3px 1px rgba(0, 0, 0, 0.15);\n",
              "      filter: drop-shadow(0px 1px 2px rgba(0, 0, 0, 0.3));\n",
              "      fill: #FFFFFF;\n",
              "    }\n",
              "  </style>\n",
              "\n",
              "      <script>\n",
              "        const buttonEl =\n",
              "          document.querySelector('#df-18e8f76c-9b85-4b05-9656-f19fc651a56a button.colab-df-convert');\n",
              "        buttonEl.style.display =\n",
              "          google.colab.kernel.accessAllowed ? 'block' : 'none';\n",
              "\n",
              "        async function convertToInteractive(key) {\n",
              "          const element = document.querySelector('#df-18e8f76c-9b85-4b05-9656-f19fc651a56a');\n",
              "          const dataTable =\n",
              "            await google.colab.kernel.invokeFunction('convertToInteractive',\n",
              "                                                     [key], {});\n",
              "          if (!dataTable) return;\n",
              "\n",
              "          const docLinkHtml = 'Like what you see? Visit the ' +\n",
              "            '<a target=\"_blank\" href=https://colab.research.google.com/notebooks/data_table.ipynb>data table notebook</a>'\n",
              "            + ' to learn more about interactive tables.';\n",
              "          element.innerHTML = '';\n",
              "          dataTable['output_type'] = 'display_data';\n",
              "          await google.colab.output.renderOutput(dataTable, element);\n",
              "          const docLink = document.createElement('div');\n",
              "          docLink.innerHTML = docLinkHtml;\n",
              "          element.appendChild(docLink);\n",
              "        }\n",
              "      </script>\n",
              "    </div>\n",
              "  </div>\n",
              "  "
            ]
          },
          "metadata": {},
          "execution_count": 17
        }
      ]
    },
    {
      "cell_type": "markdown",
      "source": [
        "## **Cuartiles**"
      ],
      "metadata": {
        "id": "7acUlUyd8emo"
      }
    },
    {
      "cell_type": "code",
      "source": [
        "## **Cuartiles**\n",
        "DCA.groupby('Tipo_Cuero')['Desgaste'].quantile([.25, .50, .75])"
      ],
      "metadata": {
        "colab": {
          "base_uri": "https://localhost:8080/"
        },
        "id": "dqQvwAS07g2O",
        "outputId": "3da8e706-7984-4ae8-ecdd-e473503ec813"
      },
      "execution_count": null,
      "outputs": [
        {
          "output_type": "execute_result",
          "data": {
            "text/plain": [
              "Tipo_Cuero      \n",
              "A           0.25    255.75\n",
              "            0.50    259.00\n",
              "            0.75    261.50\n",
              "B           0.25    206.50\n",
              "            0.50    210.50\n",
              "            0.75    215.25\n",
              "C           0.25    221.25\n",
              "            0.50    226.50\n",
              "            0.75    229.50\n",
              "D           0.25    217.75\n",
              "            0.50    221.00\n",
              "            0.75    223.50\n",
              "Name: Desgaste, dtype: float64"
            ]
          },
          "metadata": {},
          "execution_count": 18
        }
      ]
    },
    {
      "cell_type": "markdown",
      "metadata": {
        "id": "4AUXipk7CWJP"
      },
      "source": [
        "# **k. BoxPlot para DCA**"
      ]
    },
    {
      "cell_type": "code",
      "execution_count": null,
      "metadata": {
        "colab": {
          "base_uri": "https://localhost:8080/",
          "height": 889
        },
        "id": "uLCK4nZJWTUR",
        "outputId": "7bce4300-8ef6-412b-e7f8-1f9d1623bb23"
      },
      "outputs": [
        {
          "output_type": "execute_result",
          "data": {
            "text/plain": [
              "<Axes: title={'center': 'Desgaste vs Tipo_Cuero'}, xlabel='Tipo_Cuero', ylabel='Desgaste'>"
            ]
          },
          "metadata": {},
          "execution_count": 19
        },
        {
          "output_type": "display_data",
          "data": {
            "text/plain": [
              "<Figure size 1000x1000 with 1 Axes>"
            ],
            "image/png": "[encoded data removed]"
          },
          "metadata": {}
        }
      ],
      "source": [
        "# **k. BoxPlot para DCA**\n",
        "fig, ax = plt.subplots(1, 1, figsize=(10, 10))\n",
        "ax.set_title('Desgaste vs Tipo_Cuero')\n",
        "sns.boxplot(x=\"Tipo_Cuero\", y=Desgaste,data=DCA,ax=ax)\n",
        "sns.swarmplot(x=\"Tipo_Cuero\", y=\"Desgaste\", data=DCA, color='red', alpha=0.5, ax=ax)"
      ]
    },
    {
      "cell_type": "markdown",
      "metadata": {
        "id": "83cJmr0XCtts"
      },
      "source": [
        "# **l. Análisis de Varianza**"
      ]
    },
    {
      "cell_type": "code",
      "execution_count": null,
      "metadata": {
        "colab": {
          "base_uri": "https://localhost:8080/"
        },
        "id": "Ejr1KNvvWTYR",
        "outputId": "d718a74a-d6e9-4509-8ccb-bb99f7e10ac8"
      },
      "outputs": [
        {
          "output_type": "stream",
          "name": "stdout",
          "text": [
            "                 sum_sq    df          F    PR(>F)\n",
            "Tipo_Cuero  7072.333333   3.0  23.237501  0.000001\n",
            "Residual    2029.000000  20.0        NaN       NaN\n"
          ]
        }
      ],
      "source": [
        "# **l. Análisis de Varianza**\n",
        "modelDCA = ols(\"Desgaste ~ Tipo_Cuero\", data = DCA).fit()\n",
        "anova_result = sm.stats.anova_lm(modelDCA, typ=2)\n",
        "print (anova_result)"
      ]
    },
    {
      "cell_type": "code",
      "execution_count": null,
      "metadata": {
        "colab": {
          "base_uri": "https://localhost:8080/",
          "height": 175
        },
        "id": "AJ2Gpl4NbJiZ",
        "outputId": "32d35e7d-55cb-4535-a010-77422eb04187"
      },
      "outputs": [
        {
          "output_type": "execute_result",
          "data": {
            "text/plain": [
              "         Tipo_Cuero  Residual\n",
              "sum_sq  7072.333333    2029.0\n",
              "df         3.000000      20.0\n",
              "F         23.237501       NaN\n",
              "PR(>F)     0.000001       NaN"
            ],
            "text/html": [
              "\n",
              "  <div id=\"df-df7d7933-21f3-4dfa-8842-5a0eac7123f1\">\n",
              "    <div class=\"colab-df-container\">\n",
              "      <div>\n",
              "<style scoped>\n",
              "    .dataframe tbody tr th:only-of-type {\n",
              "        vertical-align: middle;\n",
              "    }\n",
              "\n",
              "    .dataframe tbody tr th {\n",
              "        vertical-align: top;\n",
              "    }\n",
              "\n",
              "    .dataframe thead th {\n",
              "        text-align: right;\n",
              "    }\n",
              "</style>\n",
              "<table border=\"1\" class=\"dataframe\">\n",
              "  <thead>\n",
              "    <tr style=\"text-align: right;\">\n",
              "      <th></th>\n",
              "      <th>Tipo_Cuero</th>\n",
              "      <th>Residual</th>\n",
              "    </tr>\n",
              "  </thead>\n",
              "  <tbody>\n",
              "    <tr>\n",
              "      <th>sum_sq</th>\n",
              "      <td>7072.333333</td>\n",
              "      <td>2029.0</td>\n",
              "    </tr>\n",
              "    <tr>\n",
              "      <th>df</th>\n",
              "      <td>3.000000</td>\n",
              "      <td>20.0</td>\n",
              "    </tr>\n",
              "    <tr>\n",
              "      <th>F</th>\n",
              "      <td>23.237501</td>\n",
              "      <td>NaN</td>\n",
              "    </tr>\n",
              "    <tr>\n",
              "      <th>PR(&gt;F)</th>\n",
              "      <td>0.000001</td>\n",
              "      <td>NaN</td>\n",
              "    </tr>\n",
              "  </tbody>\n",
              "</table>\n",
              "</div>\n",
              "      <button class=\"colab-df-convert\" onclick=\"convertToInteractive('df-df7d7933-21f3-4dfa-8842-5a0eac7123f1')\"\n",
              "              title=\"Convert this dataframe to an interactive table.\"\n",
              "              style=\"display:none;\">\n",
              "        \n",
              "  <svg xmlns=\"http://www.w3.org/2000/svg\" height=\"24px\"viewBox=\"0 0 24 24\"\n",
              "       width=\"24px\">\n",
              "    <path d=\"M0 0h24v24H0V0z\" fill=\"none\"/>\n",
              "    <path d=\"M18.56 5.44l.94 2.06.94-2.06 2.06-.94-2.06-.94-.94-2.06-.94 2.06-2.06.94zm-11 1L8.5 8.5l.94-2.06 2.06-.94-2.06-.94L8.5 2.5l-.94 2.06-2.06.94zm10 10l.94 2.06.94-2.06 2.06-.94-2.06-.94-.94-2.06-.94 2.06-2.06.94z\"/><path d=\"M17.41 7.96l-1.37-1.37c-.4-.4-.92-.59-1.43-.59-.52 0-1.04.2-1.43.59L10.3 9.45l-7.72 7.72c-.78.78-.78 2.05 0 2.83L4 21.41c.39.39.9.59 1.41.59.51 0 1.02-.2 1.41-.59l7.78-7.78 2.81-2.81c.8-.78.8-2.07 0-2.86zM5.41 20L4 18.59l7.72-7.72 1.47 1.35L5.41 20z\"/>\n",
              "  </svg>\n",
              "      </button>\n",
              "      \n",
              "  <style>\n",
              "    .colab-df-container {\n",
              "      display:flex;\n",
              "      flex-wrap:wrap;\n",
              "      gap: 12px;\n",
              "    }\n",
              "\n",
              "    .colab-df-convert {\n",
              "      background-color: #E8F0FE;\n",
              "      border: none;\n",
              "      border-radius: 50%;\n",
              "      cursor: pointer;\n",
              "      display: none;\n",
              "      fill: #1967D2;\n",
              "      height: 32px;\n",
              "      padding: 0 0 0 0;\n",
              "      width: 32px;\n",
              "    }\n",
              "\n",
              "    .colab-df-convert:hover {\n",
              "      background-color: #E2EBFA;\n",
              "      box-shadow: 0px 1px 2px rgba(60, 64, 67, 0.3), 0px 1px 3px 1px rgba(60, 64, 67, 0.15);\n",
              "      fill: #174EA6;\n",
              "    }\n",
              "\n",
              "    [theme=dark] .colab-df-convert {\n",
              "      background-color: #3B4455;\n",
              "      fill: #D2E3FC;\n",
              "    }\n",
              "\n",
              "    [theme=dark] .colab-df-convert:hover {\n",
              "      background-color: #434B5C;\n",
              "      box-shadow: 0px 1px 3px 1px rgba(0, 0, 0, 0.15);\n",
              "      filter: drop-shadow(0px 1px 2px rgba(0, 0, 0, 0.3));\n",
              "      fill: #FFFFFF;\n",
              "    }\n",
              "  </style>\n",
              "\n",
              "      <script>\n",
              "        const buttonEl =\n",
              "          document.querySelector('#df-df7d7933-21f3-4dfa-8842-5a0eac7123f1 button.colab-df-convert');\n",
              "        buttonEl.style.display =\n",
              "          google.colab.kernel.accessAllowed ? 'block' : 'none';\n",
              "\n",
              "        async function convertToInteractive(key) {\n",
              "          const element = document.querySelector('#df-df7d7933-21f3-4dfa-8842-5a0eac7123f1');\n",
              "          const dataTable =\n",
              "            await google.colab.kernel.invokeFunction('convertToInteractive',\n",
              "                                                     [key], {});\n",
              "          if (!dataTable) return;\n",
              "\n",
              "          const docLinkHtml = 'Like what you see? Visit the ' +\n",
              "            '<a target=\"_blank\" href=https://colab.research.google.com/notebooks/data_table.ipynb>data table notebook</a>'\n",
              "            + ' to learn more about interactive tables.';\n",
              "          element.innerHTML = '';\n",
              "          dataTable['output_type'] = 'display_data';\n",
              "          await google.colab.output.renderOutput(dataTable, element);\n",
              "          const docLink = document.createElement('div');\n",
              "          docLink.innerHTML = docLinkHtml;\n",
              "          element.appendChild(docLink);\n",
              "        }\n",
              "      </script>\n",
              "    </div>\n",
              "  </div>\n",
              "  "
            ]
          },
          "metadata": {},
          "execution_count": 21
        }
      ],
      "source": [
        "anova_result.T"
      ]
    },
    {
      "cell_type": "markdown",
      "metadata": {
        "id": "FRFfnc3mGaWs"
      },
      "source": [
        "# **m. Análisis de Varianza2**"
      ]
    },
    {
      "cell_type": "code",
      "execution_count": null,
      "metadata": {
        "colab": {
          "base_uri": "https://localhost:8080/"
        },
        "id": "k9lsraCbEmCQ",
        "outputId": "b70603bb-c633-4d05-f7f5-050e1e1447bd"
      },
      "outputs": [
        {
          "output_type": "stream",
          "name": "stdout",
          "text": [
            "                            OLS Regression Results                            \n",
            "==============================================================================\n",
            "Dep. Variable:               Desgaste   R-squared:                       0.777\n",
            "Model:                            OLS   Adj. R-squared:                  0.744\n",
            "Method:                 Least Squares   F-statistic:                     23.24\n",
            "Date:                Tue, 09 May 2023   Prob (F-statistic):           1.00e-06\n",
            "Time:                        22:58:12   Log-Likelihood:                -87.301\n",
            "No. Observations:                  24   AIC:                             182.6\n",
            "Df Residuals:                      20   BIC:                             187.3\n",
            "Df Model:                           3                                         \n",
            "Covariance Type:            nonrobust                                         \n",
            "======================================================================================\n",
            "                         coef    std err          t      P>|t|      [0.025      0.975]\n",
            "--------------------------------------------------------------------------------------\n",
            "Intercept            256.6667      4.112     62.419      0.000     248.089     265.244\n",
            "C(Tipo_Cuero)[T.B]   -46.1667      5.815     -7.939      0.000     -58.297     -34.036\n",
            "C(Tipo_Cuero)[T.C]   -25.8333      5.815     -4.442      0.000     -37.964     -13.703\n",
            "C(Tipo_Cuero)[T.D]   -36.0000      5.815     -6.191      0.000     -48.130     -23.870\n",
            "==============================================================================\n",
            "Omnibus:                       17.411   Durbin-Watson:                   2.774\n",
            "Prob(Omnibus):                  0.000   Jarque-Bera (JB):               23.780\n",
            "Skew:                           1.426   Prob(JB):                     6.86e-06\n",
            "Kurtosis:                       6.956   Cond. No.                         4.79\n",
            "==============================================================================\n",
            "\n",
            "Notes:\n",
            "[1] Standard Errors assume that the covariance matrix of the errors is correctly specified.\n"
          ]
        }
      ],
      "source": [
        "# **m. Análisis de Varianza2**\n",
        "modeloDCA2 = smf.ols(\"Desgaste ~ C(Tipo_Cuero)\", data = DCA).fit()\n",
        "print(modeloDCA2.summary())\n"
      ]
    },
    {
      "cell_type": "markdown",
      "metadata": {
        "id": "xD7BWchWROWc"
      },
      "source": [
        "# **n. Análisis de Varianza3**"
      ]
    },
    {
      "cell_type": "code",
      "execution_count": null,
      "metadata": {
        "colab": {
          "base_uri": "https://localhost:8080/"
        },
        "id": "u5xHeoWyFp5W",
        "outputId": "e10015dc-26a5-4cf5-feb4-bb30e928cac9"
      },
      "outputs": [
        {
          "output_type": "stream",
          "name": "stdout",
          "text": [
            "                            OLS Regression Results                            \n",
            "==============================================================================\n",
            "Dep. Variable:               Desgaste   R-squared:                       0.777\n",
            "Model:                            OLS   Adj. R-squared:                  0.744\n",
            "Method:                 Least Squares   F-statistic:                     23.24\n",
            "Date:                Tue, 09 May 2023   Prob (F-statistic):           1.00e-06\n",
            "Time:                        22:58:12   Log-Likelihood:                -87.301\n",
            "No. Observations:                  24   AIC:                             182.6\n",
            "Df Residuals:                      20   BIC:                             187.3\n",
            "Df Model:                           3                                         \n",
            "Covariance Type:            nonrobust                                         \n",
            "=================================================================================\n",
            "                    coef    std err          t      P>|t|      [0.025      0.975]\n",
            "---------------------------------------------------------------------------------\n",
            "Tipo_Cuero[A]   256.6667      4.112     62.419      0.000     248.089     265.244\n",
            "Tipo_Cuero[B]   210.5000      4.112     51.192      0.000     201.923     219.077\n",
            "Tipo_Cuero[C]   230.8333      4.112     56.137      0.000     222.256     239.411\n",
            "Tipo_Cuero[D]   220.6667      4.112     53.664      0.000     212.089     229.244\n",
            "==============================================================================\n",
            "Omnibus:                       17.411   Durbin-Watson:                   2.774\n",
            "Prob(Omnibus):                  0.000   Jarque-Bera (JB):               23.780\n",
            "Skew:                           1.426   Prob(JB):                     6.86e-06\n",
            "Kurtosis:                       6.956   Cond. No.                         1.00\n",
            "==============================================================================\n",
            "\n",
            "Notes:\n",
            "[1] Standard Errors assume that the covariance matrix of the errors is correctly specified.\n"
          ]
        }
      ],
      "source": [
        "# **n. Análisis de Varianza3**\n",
        "modeloDCA3 = smf.ols(\"Desgaste ~ Tipo_Cuero-1\", data = DCA).fit()\n",
        "print(modeloDCA3.summary())"
      ]
    },
    {
      "cell_type": "markdown",
      "metadata": {
        "id": "2pR_OUryC7EO"
      },
      "source": [
        "# **o. Comparaciones Múltiples**"
      ]
    },
    {
      "cell_type": "code",
      "execution_count": null,
      "metadata": {
        "colab": {
          "base_uri": "https://localhost:8080/",
          "height": 714
        },
        "id": "6zTBRYDLbxff",
        "outputId": "b1c28e3f-7779-44ca-da4d-df3b670a3aa2"
      },
      "outputs": [
        {
          "output_type": "execute_result",
          "data": {
            "text/plain": [
              "<class 'statsmodels.iolib.table.SimpleTable'>"
            ],
            "text/html": [
              "<table class=\"simpletable\">\n",
              "<caption>Multiple Comparison of Means - Tukey HSD, FWER=0.05</caption>\n",
              "<tr>\n",
              "  <th>group1</th> <th>group2</th> <th>meandiff</th>  <th>p-adj</th>   <th>lower</th>    <th>upper</th>  <th>reject</th>\n",
              "</tr>\n",
              "<tr>\n",
              "     <td>A</td>      <td>B</td>   <td>-46.1667</td>   <td>0.0</td>  <td>-62.4431</td> <td>-29.8903</td>  <td>True</td> \n",
              "</tr>\n",
              "<tr>\n",
              "     <td>A</td>      <td>C</td>   <td>-25.8333</td> <td>0.0013</td> <td>-42.1097</td>  <td>-9.5569</td>  <td>True</td> \n",
              "</tr>\n",
              "<tr>\n",
              "     <td>A</td>      <td>D</td>     <td>-36.0</td>    <td>0.0</td>  <td>-52.2764</td> <td>-19.7236</td>  <td>True</td> \n",
              "</tr>\n",
              "<tr>\n",
              "     <td>B</td>      <td>C</td>    <td>20.3333</td> <td>0.0112</td>  <td>4.0569</td>   <td>36.6097</td>  <td>True</td> \n",
              "</tr>\n",
              "<tr>\n",
              "     <td>B</td>      <td>D</td>    <td>10.1667</td> <td>0.3263</td>  <td>-6.1097</td>  <td>26.4431</td>  <td>False</td>\n",
              "</tr>\n",
              "<tr>\n",
              "     <td>C</td>      <td>D</td>   <td>-10.1667</td> <td>0.3263</td> <td>-26.4431</td>  <td>6.1097</td>   <td>False</td>\n",
              "</tr>\n",
              "</table>"
            ]
          },
          "metadata": {},
          "execution_count": 24
        },
        {
          "output_type": "display_data",
          "data": {
            "text/plain": [
              "<Figure size 1000x600 with 1 Axes>"
            ],
            "image/png": "[encoded data removed]"
          },
          "metadata": {}
        }
      ],
      "source": [
        "# **Comparaciones Múltiples**\n",
        "tukey = pairwise_tukeyhsd(endog=DCA[\"Desgaste\"],     # Data\n",
        "                          groups=DCA[\"Tipo_Cuero\"],   # Groups\n",
        "                          alpha=0.05)          # Significance level\n",
        "\n",
        "tukey.plot_simultaneous()    # Plot group confidence intervals\n",
        "#plt.vlines(x=200,ymin=-0.5,ymax=14.5, color=\"red\")\n",
        "tukey.summary()"
      ]
    },
    {
      "cell_type": "markdown",
      "metadata": {
        "id": "6JsEprWuWRu5"
      },
      "source": [
        "# **p. Normalidad de los Residuos: Shapiro Wilks y Gráfico de Probabilidad para los residuos**\n",
        "\n",
        "## **Prueba Analítica con Shapiro**"
      ]
    },
    {
      "cell_type": "code",
      "execution_count": null,
      "metadata": {
        "colab": {
          "base_uri": "https://localhost:8080/"
        },
        "id": "U8vNsLGHVXqm",
        "outputId": "c524e970-00dc-49f6-9452-2875716a7d34"
      },
      "outputs": [
        {
          "output_type": "execute_result",
          "data": {
            "text/plain": [
              "ShapiroResult(statistic=0.8781194686889648, pvalue=0.0076182521879673)"
            ]
          },
          "metadata": {},
          "execution_count": 25
        }
      ],
      "source": [
        "# **Forma 1. Shapiro Wilks**\n",
        "stats.shapiro(modelDCA.resid)"
      ]
    },
    {
      "cell_type": "code",
      "execution_count": null,
      "metadata": {
        "colab": {
          "base_uri": "https://localhost:8080/"
        },
        "id": "iNbocc0UawfI",
        "outputId": "fba162a6-f6b9-4522-d040-a0aba73abc51"
      },
      "outputs": [
        {
          "output_type": "stream",
          "name": "stdout",
          "text": [
            "0.8781194686889648 0.0076182521879673\n"
          ]
        }
      ],
      "source": [
        "# **Forma 2. Shapiro Wilks**\n",
        "w, pvalue = stats.shapiro(modelDCA.resid)\n",
        "print(w, pvalue)"
      ]
    },
    {
      "cell_type": "code",
      "execution_count": null,
      "metadata": {
        "colab": {
          "base_uri": "https://localhost:8080/"
        },
        "id": "0qUZCsOLPDBc",
        "outputId": "7879d334-bccf-4117-9644-7192f6013b53"
      },
      "outputs": [
        {
          "output_type": "execute_result",
          "data": {
            "text/plain": [
              "count     24.000000\n",
              "mean     229.666667\n",
              "std       19.892465\n",
              "min      200.000000\n",
              "25%      216.750000\n",
              "50%      223.000000\n",
              "75%      244.500000\n",
              "max      264.000000\n",
              "Name: Desgaste, dtype: float64"
            ]
          },
          "metadata": {},
          "execution_count": 27
        }
      ],
      "source": [
        "DCA['Desgaste'].describe()"
      ]
    },
    {
      "cell_type": "markdown",
      "metadata": {
        "id": "iG0csY0Bb-YB"
      },
      "source": [
        "## **Prueba gráfica con el gráfico de probabilidad Normal y el Histograma: Todos los datos**"
      ]
    },
    {
      "cell_type": "code",
      "execution_count": null,
      "metadata": {
        "colab": {
          "base_uri": "https://localhost:8080/",
          "height": 485
        },
        "id": "CwZ4hQwGVXuL",
        "outputId": "7bbae325-5a95-4114-ebe8-a1a16851f884"
      },
      "outputs": [
        {
          "output_type": "display_data",
          "data": {
            "text/plain": [
              "<Figure size 500x500 with 1 Axes>"
            ],
            "image/png": "[encoded data removed]"
          },
          "metadata": {}
        }
      ],
      "source": [
        "# **Prueba gráfica con el gráfico de probabilidad Normal y el Histograma**\n",
        "fig = plt.figure(figsize= (5, 5))\n",
        "ax = fig.add_subplot(111)\n",
        "normality_plot, stat = stats.probplot(modelDCA.resid, plot= plt, rvalue= True)\n",
        "ax.set_title(\"Gráfico de Probabiliad para los residuos\", fontsize= 10)\n",
        "ax.set\n",
        "\n",
        "plt.show()"
      ]
    },
    {
      "cell_type": "markdown",
      "source": [
        "## **Prueba gráfica con el gráfico de probabilidad Normal y el Histograma: Por secciones**"
      ],
      "metadata": {
        "id": "Q3TLQ7WNG46_"
      }
    },
    {
      "cell_type": "code",
      "source": [
        "unique_Tipo_Cuero = DCA['Tipo_Cuero'].unique()\n",
        "for Tipo_Cuero in unique_Tipo_Cuero:\n",
        "    stats.probplot(DCA[DCA['Tipo_Cuero'] == Tipo_Cuero]['Desgaste'], dist=\"norm\", plot=plt)\n",
        "    plt.title(\"Gráfico de Probabilidad - \"+Tipo_Cuero)\n",
        "    plt.show()"
      ],
      "metadata": {
        "colab": {
          "base_uri": "https://localhost:8080/",
          "height": 1000
        },
        "id": "neejrmoDFmSi",
        "outputId": "c690cc37-c2e4-4009-eb9d-9249a00c8fda"
      },
      "execution_count": null,
      "outputs": [
        {
          "output_type": "display_data",
          "data": {
            "text/plain": [
              "<Figure size 640x480 with 1 Axes>"
            ],
            "image/png": "[encoded data removed]"
          },
          "metadata": {}
        },
        {
          "output_type": "display_data",
          "data": {
            "text/plain": [
              "<Figure size 640x480 with 1 Axes>"
            ],
            "image/png": "[encoded data removed]"
          },
          "metadata": {}
        },
        {
          "output_type": "display_data",
          "data": {
            "text/plain": [
              "<Figure size 640x480 with 1 Axes>"
            ],
            "image/png": "[encoded data removed]"
          },
          "metadata": {}
        },
        {
          "output_type": "display_data",
          "data": {
            "text/plain": [
              "<Figure size 640x480 with 1 Axes>"
            ],
            "image/png": "[encoded data removed]"
          },
          "metadata": {}
        }
      ]
    },
    {
      "cell_type": "code",
      "execution_count": null,
      "metadata": {
        "colab": {
          "base_uri": "https://localhost:8080/"
        },
        "id": "xBidMw2oWvY9",
        "outputId": "70784d32-4eb2-40f3-fb2d-51d13d31916d"
      },
      "outputs": [
        {
          "output_type": "execute_result",
          "data": {
            "text/plain": [
              "count    2.400000e+01\n",
              "mean    -1.894781e-14\n",
              "std      9.392411e+00\n",
              "min     -1.566667e+01\n",
              "25%     -4.791667e+00\n",
              "50%     -7.500000e-01\n",
              "75%      3.833333e+00\n",
              "max      3.216667e+01\n",
              "dtype: float64"
            ]
          },
          "metadata": {},
          "execution_count": 30
        }
      ],
      "source": [
        "desgaste2 =modelDCA.resid\n",
        "desgaste2\n",
        "desgaste2.describe()"
      ]
    },
    {
      "cell_type": "code",
      "execution_count": null,
      "metadata": {
        "colab": {
          "base_uri": "https://localhost:8080/"
        },
        "id": "DNeE1PLeZIMG",
        "outputId": "a855946d-b708-4602-8930-c26e3389d2e9"
      },
      "outputs": [
        {
          "output_type": "execute_result",
          "data": {
            "text/plain": [
              "0      7.333333\n",
              "1      3.333333\n",
              "2      1.333333\n",
              "3    -15.666667\n",
              "4      5.333333\n",
              "5     -1.666667\n",
              "6     -2.500000\n",
              "7      9.500000\n",
              "8      5.500000\n",
              "9    -10.500000\n",
              "10     2.500000\n",
              "11    -4.500000\n",
              "12   -10.833333\n",
              "13    32.166667\n",
              "14   -11.833333\n",
              "15    -5.833333\n",
              "16    -0.833333\n",
              "17    -2.833333\n",
              "18    -3.666667\n",
              "19     5.333333\n",
              "20    -5.666667\n",
              "21     3.333333\n",
              "22    -0.666667\n",
              "23     1.333333\n",
              "dtype: float64"
            ]
          },
          "metadata": {},
          "execution_count": 31
        }
      ],
      "source": [
        "desgaste2"
      ]
    },
    {
      "cell_type": "code",
      "execution_count": null,
      "metadata": {
        "colab": {
          "base_uri": "https://localhost:8080/",
          "height": 411
        },
        "id": "BQNmz2O_RdfS",
        "outputId": "b5bc54c4-83d2-4c76-b4c4-824768f8cd91"
      },
      "outputs": [
        {
          "output_type": "display_data",
          "data": {
            "text/plain": [
              "<Figure size 700x400 with 1 Axes>"
            ],
            "image/png": "[encoded data removed]"
          },
          "metadata": {}
        }
      ],
      "source": [
        "# Histograma + curva normal teórica\n",
        "# ==============================================================================\n",
        "\n",
        "# Valores de la media (mu) y desviación típica (sigma) de los datos\n",
        "mu, sigma = stats.norm.fit(desgaste2)\n",
        "\n",
        "# Valores teóricos de la normal en el rango observado\n",
        "x_hat = np.linspace(min(desgaste2), max(desgaste2), num=100)\n",
        "y_hat = stats.norm.pdf(x_hat, mu, sigma)\n",
        "\n",
        "# Gráfico\n",
        "fig, ax = plt.subplots(figsize=(7,4))\n",
        "ax.plot(x_hat, y_hat, linewidth=2, label='normal')\n",
        "ax.hist(x=desgaste2, density=True, bins=30,  alpha=0.5)\n",
        "ax.plot(desgaste2, np.full_like(desgaste2, -0.01), '|k', markeredgewidth=1)\n",
        "ax.set_title('Distribución del Desgaste para los tipos de Cuero')\n",
        "ax.set_xlabel('Desgaste2')\n",
        "ax.set_ylabel('Densidad de probabilidad')\n",
        "ax.legend();"
      ]
    },
    {
      "cell_type": "code",
      "execution_count": null,
      "metadata": {
        "colab": {
          "base_uri": "https://localhost:8080/",
          "height": 449
        },
        "id": "EKao_3t4PsWO",
        "outputId": "54354e59-586d-44e2-d081-8034e246e3d7"
      },
      "outputs": [
        {
          "output_type": "display_data",
          "data": {
            "text/plain": [
              "<Figure size 640x480 with 1 Axes>"
            ],
            "image/png": "[encoded data removed]"
          },
          "metadata": {}
        }
      ],
      "source": [
        "# **Histograma de Residuos**\n",
        "plt.hist(DCA['Desgaste'], bins='auto', histtype='bar', ec='k')\n",
        "\n",
        "plt.xlabel(\"Desgaste\")\n",
        "plt.ylabel('Frecuencia')\n",
        "plt.show()"
      ]
    },
    {
      "cell_type": "markdown",
      "metadata": {
        "id": "okmx2__6Po4K"
      },
      "source": [
        "# **Histograma de Residuos**"
      ]
    },
    {
      "cell_type": "code",
      "execution_count": null,
      "metadata": {
        "colab": {
          "base_uri": "https://localhost:8080/",
          "height": 449
        },
        "id": "wS4Bpc8_baYj",
        "outputId": "bb42e42d-bd2a-4c85-8560-23b4f01df5a7"
      },
      "outputs": [
        {
          "output_type": "display_data",
          "data": {
            "text/plain": [
              "<Figure size 640x480 with 1 Axes>"
            ],
            "image/png": "[encoded data removed]"
          },
          "metadata": {}
        }
      ],
      "source": [
        "# **Histograma de Residuos**\n",
        "plt.hist(modelDCA.resid, bins='auto', histtype='bar', ec='k')\n",
        "\n",
        "plt.xlabel(\"Residuals\")\n",
        "plt.ylabel('Frecuencia')\n",
        "plt.show()"
      ]
    },
    {
      "cell_type": "markdown",
      "metadata": {
        "id": "JEfHlHYod9q2"
      },
      "source": [
        "# **Gráfico Q-Q**"
      ]
    },
    {
      "cell_type": "code",
      "execution_count": null,
      "metadata": {
        "colab": {
          "base_uri": "https://localhost:8080/",
          "height": 404
        },
        "id": "_mcydmLkcgf5",
        "outputId": "1b250274-087f-4777-ab99-5aa736bf4ffe"
      },
      "outputs": [
        {
          "output_type": "display_data",
          "data": {
            "text/plain": [
              "<Figure size 700x400 with 1 Axes>"
            ],
            "image/png": "[encoded data removed]"
          },
          "metadata": {}
        }
      ],
      "source": [
        "# **Gráfico Q-Q**\n",
        "# ==============================================================================\n",
        "fig, ax = plt.subplots(figsize=(7,4))\n",
        "sm.qqplot(\n",
        "    desgaste2,\n",
        "    fit   = True,\n",
        "    line  = 'q',\n",
        "    alpha = 0.8,\n",
        "    lw    = 5,\n",
        "    ax    = ax\n",
        ")\n",
        "ax.set_title('Gráfico Q-Q para Desgaste', fontsize = 10,\n",
        "             fontweight = \"bold\")\n",
        "ax.tick_params(labelsize = 8)"
      ]
    },
    {
      "cell_type": "markdown",
      "metadata": {
        "id": "bfDA0UydZZLO"
      },
      "source": [
        "# **q. Homocedasticidad de los residuos: Usando la prueba de Levene**"
      ]
    },
    {
      "cell_type": "code",
      "execution_count": null,
      "metadata": {
        "colab": {
          "base_uri": "https://localhost:8080/"
        },
        "id": "YTA1TuXiVXyC",
        "outputId": "68e29276-7e48-4e92-b32e-4a4037930368"
      },
      "outputs": [
        {
          "output_type": "execute_result",
          "data": {
            "text/plain": [
              "LeveneResult(statistic=0.6655480984340044, pvalue=0.5829775895886209)"
            ]
          },
          "metadata": {},
          "execution_count": 36
        }
      ],
      "source": [
        "# q. Homocedasticidad de los residuos: Usando la prueba de Levene\n",
        "stats.levene(DCA['Desgaste'][DCA['Tipo_Cuero'] == 'A'],\n",
        "             DCA['Desgaste'][DCA['Tipo_Cuero'] == 'B'],\n",
        "             DCA['Desgaste'][DCA['Tipo_Cuero'] == 'C'],\n",
        "             DCA['Desgaste'][DCA['Tipo_Cuero'] == 'D'])"
      ]
    },
    {
      "cell_type": "markdown",
      "metadata": {
        "id": "LMg-7FEruXJ_"
      },
      "source": [
        "# **2.0. Diseños en Bloques Completos al Azar - DBCA**\n",
        "\n",
        "### **2.1 Problema de Aplicación.** _Se evalúa la eficacia de sulfato ferroso a 4 diferentes concentraciones $2$, $2.5$, $3$, y $4$ $mg/kg/día$ para combatir la anemia en personas con desnutrición. Dada la variabilidad de pesos y sexos, se decidió agrupar en bloque de personas por pesos lo más semejantes posibles. Se les dio el tratamiento durante 4 meses y se procedió a determinar su volumen sanguíneo dando los siguientes resultados:_\n",
        "\n",
        "|Pesos\\Tratamientos|T1 |T2| T3| T4| Total ($Y_{.j}$)|\n",
        "|:--:|:--:|:--:|:--:|:--:|:--:|\n",
        "|I |4.1| 6.5| 4.1| 4.9| 19.6|\n",
        "|II |4.1| 5.3| 4.0| 6.2| 19.6|\n",
        "|III |6.5| 6.9| 4.5| 4.8| 22.7|\n",
        "|IV |4.3| 6.8| 4.3| 4.2| 19.6|\n",
        "|V |6.0| 6.5| 4.1| 6.9| 23.5|\n",
        "|Total Tratamiento ($Y_i.$)| 25| 32| 21| 27| 105|\n",
        "\n",
        "- **Las hipótesis a probar: Para los tratamientos**\n",
        "$$H_{01}: \\mu_{T_1}=\\mu_{T_2}=\\mu_{T_3}=\\mu_{T_4}$$ $$Vs$$ $$H_{a1}: \\mu_{T_i}\\neq\\mu_{T_j}$$ _Al menos un tratamiento es diferente_\n",
        "\n",
        "- **Las hipótesis a probar: Para los Bloques**\n",
        "$$H_{02}: \\mu_{B_1}=\\mu_{B_2}=\\mu_{B_3}=\\mu_{B_4}=\\mu_{B_4}$$ $$Vs$$ $$H_{a2}: \\mu_{B_i}\\neq\\mu_{B_j}$$  _Al menos un bloque (pesos) es\n",
        "diferente_"
      ]
    },
    {
      "cell_type": "markdown",
      "metadata": {
        "id": "yKPrt5k8VQHe"
      },
      "source": [
        "# **2.2 El DataFrame de los datos**"
      ]
    },
    {
      "cell_type": "code",
      "execution_count": null,
      "metadata": {
        "colab": {
          "base_uri": "https://localhost:8080/",
          "height": 677
        },
        "id": "Zo-FC7Bh08m3",
        "outputId": "16ae7e73-ad04-4308-eb9a-8a003372f0c8"
      },
      "outputs": [
        {
          "output_type": "execute_result",
          "data": {
            "text/plain": [
              "   Pesos S_Ferroso  V_Sanguineo\n",
              "0     B1        T1          4.1\n",
              "1     B1        T2          6.5\n",
              "2     B1        T3          4.1\n",
              "3     B1        T4          4.9\n",
              "4     B2        T1          4.1\n",
              "5     B2        T2          5.3\n",
              "6     B2        T3          4.0\n",
              "7     B2        T4          6.2\n",
              "8     B3        T1          6.5\n",
              "9     B3        T2          6.9\n",
              "10    B3        T3          4.5\n",
              "11    B3        T4          4.8\n",
              "12    B4        T1          4.3\n",
              "13    B4        T2          6.8\n",
              "14    B4        T3          4.3\n",
              "15    B4        T4          4.2\n",
              "16    B5        T1          6.0\n",
              "17    B5        T2          6.5\n",
              "18    B5        T3          4.1\n",
              "19    B5        T4          6.9"
            ],
            "text/html": [
              "\n",
              "  <div id=\"df-63271f0b-e131-4d61-95bc-5caafb319f3c\">\n",
              "    <div class=\"colab-df-container\">\n",
              "      <div>\n",
              "<style scoped>\n",
              "    .dataframe tbody tr th:only-of-type {\n",
              "        vertical-align: middle;\n",
              "    }\n",
              "\n",
              "    .dataframe tbody tr th {\n",
              "        vertical-align: top;\n",
              "    }\n",
              "\n",
              "    .dataframe thead th {\n",
              "        text-align: right;\n",
              "    }\n",
              "</style>\n",
              "<table border=\"1\" class=\"dataframe\">\n",
              "  <thead>\n",
              "    <tr style=\"text-align: right;\">\n",
              "      <th></th>\n",
              "      <th>Pesos</th>\n",
              "      <th>S_Ferroso</th>\n",
              "      <th>V_Sanguineo</th>\n",
              "    </tr>\n",
              "  </thead>\n",
              "  <tbody>\n",
              "    <tr>\n",
              "      <th>0</th>\n",
              "      <td>B1</td>\n",
              "      <td>T1</td>\n",
              "      <td>4.1</td>\n",
              "    </tr>\n",
              "    <tr>\n",
              "      <th>1</th>\n",
              "      <td>B1</td>\n",
              "      <td>T2</td>\n",
              "      <td>6.5</td>\n",
              "    </tr>\n",
              "    <tr>\n",
              "      <th>2</th>\n",
              "      <td>B1</td>\n",
              "      <td>T3</td>\n",
              "      <td>4.1</td>\n",
              "    </tr>\n",
              "    <tr>\n",
              "      <th>3</th>\n",
              "      <td>B1</td>\n",
              "      <td>T4</td>\n",
              "      <td>4.9</td>\n",
              "    </tr>\n",
              "    <tr>\n",
              "      <th>4</th>\n",
              "      <td>B2</td>\n",
              "      <td>T1</td>\n",
              "      <td>4.1</td>\n",
              "    </tr>\n",
              "    <tr>\n",
              "      <th>5</th>\n",
              "      <td>B2</td>\n",
              "      <td>T2</td>\n",
              "      <td>5.3</td>\n",
              "    </tr>\n",
              "    <tr>\n",
              "      <th>6</th>\n",
              "      <td>B2</td>\n",
              "      <td>T3</td>\n",
              "      <td>4.0</td>\n",
              "    </tr>\n",
              "    <tr>\n",
              "      <th>7</th>\n",
              "      <td>B2</td>\n",
              "      <td>T4</td>\n",
              "      <td>6.2</td>\n",
              "    </tr>\n",
              "    <tr>\n",
              "      <th>8</th>\n",
              "      <td>B3</td>\n",
              "      <td>T1</td>\n",
              "      <td>6.5</td>\n",
              "    </tr>\n",
              "    <tr>\n",
              "      <th>9</th>\n",
              "      <td>B3</td>\n",
              "      <td>T2</td>\n",
              "      <td>6.9</td>\n",
              "    </tr>\n",
              "    <tr>\n",
              "      <th>10</th>\n",
              "      <td>B3</td>\n",
              "      <td>T3</td>\n",
              "      <td>4.5</td>\n",
              "    </tr>\n",
              "    <tr>\n",
              "      <th>11</th>\n",
              "      <td>B3</td>\n",
              "      <td>T4</td>\n",
              "      <td>4.8</td>\n",
              "    </tr>\n",
              "    <tr>\n",
              "      <th>12</th>\n",
              "      <td>B4</td>\n",
              "      <td>T1</td>\n",
              "      <td>4.3</td>\n",
              "    </tr>\n",
              "    <tr>\n",
              "      <th>13</th>\n",
              "      <td>B4</td>\n",
              "      <td>T2</td>\n",
              "      <td>6.8</td>\n",
              "    </tr>\n",
              "    <tr>\n",
              "      <th>14</th>\n",
              "      <td>B4</td>\n",
              "      <td>T3</td>\n",
              "      <td>4.3</td>\n",
              "    </tr>\n",
              "    <tr>\n",
              "      <th>15</th>\n",
              "      <td>B4</td>\n",
              "      <td>T4</td>\n",
              "      <td>4.2</td>\n",
              "    </tr>\n",
              "    <tr>\n",
              "      <th>16</th>\n",
              "      <td>B5</td>\n",
              "      <td>T1</td>\n",
              "      <td>6.0</td>\n",
              "    </tr>\n",
              "    <tr>\n",
              "      <th>17</th>\n",
              "      <td>B5</td>\n",
              "      <td>T2</td>\n",
              "      <td>6.5</td>\n",
              "    </tr>\n",
              "    <tr>\n",
              "      <th>18</th>\n",
              "      <td>B5</td>\n",
              "      <td>T3</td>\n",
              "      <td>4.1</td>\n",
              "    </tr>\n",
              "    <tr>\n",
              "      <th>19</th>\n",
              "      <td>B5</td>\n",
              "      <td>T4</td>\n",
              "      <td>6.9</td>\n",
              "    </tr>\n",
              "  </tbody>\n",
              "</table>\n",
              "</div>\n",
              "      <button class=\"colab-df-convert\" onclick=\"convertToInteractive('df-63271f0b-e131-4d61-95bc-5caafb319f3c')\"\n",
              "              title=\"Convert this dataframe to an interactive table.\"\n",
              "              style=\"display:none;\">\n",
              "        \n",
              "  <svg xmlns=\"http://www.w3.org/2000/svg\" height=\"24px\"viewBox=\"0 0 24 24\"\n",
              "       width=\"24px\">\n",
              "    <path d=\"M0 0h24v24H0V0z\" fill=\"none\"/>\n",
              "    <path d=\"M18.56 5.44l.94 2.06.94-2.06 2.06-.94-2.06-.94-.94-2.06-.94 2.06-2.06.94zm-11 1L8.5 8.5l.94-2.06 2.06-.94-2.06-.94L8.5 2.5l-.94 2.06-2.06.94zm10 10l.94 2.06.94-2.06 2.06-.94-2.06-.94-.94-2.06-.94 2.06-2.06.94z\"/><path d=\"M17.41 7.96l-1.37-1.37c-.4-.4-.92-.59-1.43-.59-.52 0-1.04.2-1.43.59L10.3 9.45l-7.72 7.72c-.78.78-.78 2.05 0 2.83L4 21.41c.39.39.9.59 1.41.59.51 0 1.02-.2 1.41-.59l7.78-7.78 2.81-2.81c.8-.78.8-2.07 0-2.86zM5.41 20L4 18.59l7.72-7.72 1.47 1.35L5.41 20z\"/>\n",
              "  </svg>\n",
              "      </button>\n",
              "      \n",
              "  <style>\n",
              "    .colab-df-container {\n",
              "      display:flex;\n",
              "      flex-wrap:wrap;\n",
              "      gap: 12px;\n",
              "    }\n",
              "\n",
              "    .colab-df-convert {\n",
              "      background-color: #E8F0FE;\n",
              "      border: none;\n",
              "      border-radius: 50%;\n",
              "      cursor: pointer;\n",
              "      display: none;\n",
              "      fill: #1967D2;\n",
              "      height: 32px;\n",
              "      padding: 0 0 0 0;\n",
              "      width: 32px;\n",
              "    }\n",
              "\n",
              "    .colab-df-convert:hover {\n",
              "      background-color: #E2EBFA;\n",
              "      box-shadow: 0px 1px 2px rgba(60, 64, 67, 0.3), 0px 1px 3px 1px rgba(60, 64, 67, 0.15);\n",
              "      fill: #174EA6;\n",
              "    }\n",
              "\n",
              "    [theme=dark] .colab-df-convert {\n",
              "      background-color: #3B4455;\n",
              "      fill: #D2E3FC;\n",
              "    }\n",
              "\n",
              "    [theme=dark] .colab-df-convert:hover {\n",
              "      background-color: #434B5C;\n",
              "      box-shadow: 0px 1px 3px 1px rgba(0, 0, 0, 0.15);\n",
              "      filter: drop-shadow(0px 1px 2px rgba(0, 0, 0, 0.3));\n",
              "      fill: #FFFFFF;\n",
              "    }\n",
              "  </style>\n",
              "\n",
              "      <script>\n",
              "        const buttonEl =\n",
              "          document.querySelector('#df-63271f0b-e131-4d61-95bc-5caafb319f3c button.colab-df-convert');\n",
              "        buttonEl.style.display =\n",
              "          google.colab.kernel.accessAllowed ? 'block' : 'none';\n",
              "\n",
              "        async function convertToInteractive(key) {\n",
              "          const element = document.querySelector('#df-63271f0b-e131-4d61-95bc-5caafb319f3c');\n",
              "          const dataTable =\n",
              "            await google.colab.kernel.invokeFunction('convertToInteractive',\n",
              "                                                     [key], {});\n",
              "          if (!dataTable) return;\n",
              "\n",
              "          const docLinkHtml = 'Like what you see? Visit the ' +\n",
              "            '<a target=\"_blank\" href=https://colab.research.google.com/notebooks/data_table.ipynb>data table notebook</a>'\n",
              "            + ' to learn more about interactive tables.';\n",
              "          element.innerHTML = '';\n",
              "          dataTable['output_type'] = 'display_data';\n",
              "          await google.colab.output.renderOutput(dataTable, element);\n",
              "          const docLink = document.createElement('div');\n",
              "          docLink.innerHTML = docLinkHtml;\n",
              "          element.appendChild(docLink);\n",
              "        }\n",
              "      </script>\n",
              "    </div>\n",
              "  </div>\n",
              "  "
            ]
          },
          "metadata": {},
          "execution_count": 37
        }
      ],
      "source": [
        "# **2.2 El DataFrame de los datos**\n",
        "Pesos = (['B1']*4+['B2']*4+['B3']*4+['B4']*4+['B5']*4)*1\n",
        "S_Ferroso = (['T1']*1+['T2']*1+['T3']*1+['T4']*1)*5\n",
        "V_Sanguineo =[4.1, 6.5, 4.1, 4.9,  4.1, 5.3, 4.0, 6.2,  6.5, 6.9, 4.5, 4.8, 4.3, 6.8, 4.3, 4.2,  6.0, 6.5, 4.1, 6.9]\n",
        "dic_DBCA ={'Pesos': Pesos,'S_Ferroso': S_Ferroso, 'V_Sanguineo':V_Sanguineo}\n",
        "\n",
        "DBCA  = pd.DataFrame(dic_DBCA)\n",
        "DBCA"
      ]
    },
    {
      "cell_type": "markdown",
      "metadata": {
        "id": "dfCI2RmmVtgM"
      },
      "source": [
        "# **2.3. Analisis descriptivo de la variable**"
      ]
    },
    {
      "cell_type": "code",
      "execution_count": null,
      "metadata": {
        "colab": {
          "base_uri": "https://localhost:8080/",
          "height": 300
        },
        "id": "3Aqo5PkHOSmW",
        "outputId": "ec9d355c-6f4d-423e-8073-2664ac7dbcbb"
      },
      "outputs": [
        {
          "output_type": "execute_result",
          "data": {
            "text/plain": [
              "       V_Sanguineo\n",
              "count    20.000000\n",
              "mean      5.250000\n",
              "std       1.139021\n",
              "min       4.000000\n",
              "25%       4.175000\n",
              "50%       4.850000\n",
              "75%       6.500000\n",
              "max       6.900000"
            ],
            "text/html": [
              "\n",
              "  <div id=\"df-ca309a08-1b01-42f1-8224-c7e893f361ef\">\n",
              "    <div class=\"colab-df-container\">\n",
              "      <div>\n",
              "<style scoped>\n",
              "    .dataframe tbody tr th:only-of-type {\n",
              "        vertical-align: middle;\n",
              "    }\n",
              "\n",
              "    .dataframe tbody tr th {\n",
              "        vertical-align: top;\n",
              "    }\n",
              "\n",
              "    .dataframe thead th {\n",
              "        text-align: right;\n",
              "    }\n",
              "</style>\n",
              "<table border=\"1\" class=\"dataframe\">\n",
              "  <thead>\n",
              "    <tr style=\"text-align: right;\">\n",
              "      <th></th>\n",
              "      <th>V_Sanguineo</th>\n",
              "    </tr>\n",
              "  </thead>\n",
              "  <tbody>\n",
              "    <tr>\n",
              "      <th>count</th>\n",
              "      <td>20.000000</td>\n",
              "    </tr>\n",
              "    <tr>\n",
              "      <th>mean</th>\n",
              "      <td>5.250000</td>\n",
              "    </tr>\n",
              "    <tr>\n",
              "      <th>std</th>\n",
              "      <td>1.139021</td>\n",
              "    </tr>\n",
              "    <tr>\n",
              "      <th>min</th>\n",
              "      <td>4.000000</td>\n",
              "    </tr>\n",
              "    <tr>\n",
              "      <th>25%</th>\n",
              "      <td>4.175000</td>\n",
              "    </tr>\n",
              "    <tr>\n",
              "      <th>50%</th>\n",
              "      <td>4.850000</td>\n",
              "    </tr>\n",
              "    <tr>\n",
              "      <th>75%</th>\n",
              "      <td>6.500000</td>\n",
              "    </tr>\n",
              "    <tr>\n",
              "      <th>max</th>\n",
              "      <td>6.900000</td>\n",
              "    </tr>\n",
              "  </tbody>\n",
              "</table>\n",
              "</div>\n",
              "      <button class=\"colab-df-convert\" onclick=\"convertToInteractive('df-ca309a08-1b01-42f1-8224-c7e893f361ef')\"\n",
              "              title=\"Convert this dataframe to an interactive table.\"\n",
              "              style=\"display:none;\">\n",
              "        \n",
              "  <svg xmlns=\"http://www.w3.org/2000/svg\" height=\"24px\"viewBox=\"0 0 24 24\"\n",
              "       width=\"24px\">\n",
              "    <path d=\"M0 0h24v24H0V0z\" fill=\"none\"/>\n",
              "    <path d=\"M18.56 5.44l.94 2.06.94-2.06 2.06-.94-2.06-.94-.94-2.06-.94 2.06-2.06.94zm-11 1L8.5 8.5l.94-2.06 2.06-.94-2.06-.94L8.5 2.5l-.94 2.06-2.06.94zm10 10l.94 2.06.94-2.06 2.06-.94-2.06-.94-.94-2.06-.94 2.06-2.06.94z\"/><path d=\"M17.41 7.96l-1.37-1.37c-.4-.4-.92-.59-1.43-.59-.52 0-1.04.2-1.43.59L10.3 9.45l-7.72 7.72c-.78.78-.78 2.05 0 2.83L4 21.41c.39.39.9.59 1.41.59.51 0 1.02-.2 1.41-.59l7.78-7.78 2.81-2.81c.8-.78.8-2.07 0-2.86zM5.41 20L4 18.59l7.72-7.72 1.47 1.35L5.41 20z\"/>\n",
              "  </svg>\n",
              "      </button>\n",
              "      \n",
              "  <style>\n",
              "    .colab-df-container {\n",
              "      display:flex;\n",
              "      flex-wrap:wrap;\n",
              "      gap: 12px;\n",
              "    }\n",
              "\n",
              "    .colab-df-convert {\n",
              "      background-color: #E8F0FE;\n",
              "      border: none;\n",
              "      border-radius: 50%;\n",
              "      cursor: pointer;\n",
              "      display: none;\n",
              "      fill: #1967D2;\n",
              "      height: 32px;\n",
              "      padding: 0 0 0 0;\n",
              "      width: 32px;\n",
              "    }\n",
              "\n",
              "    .colab-df-convert:hover {\n",
              "      background-color: #E2EBFA;\n",
              "      box-shadow: 0px 1px 2px rgba(60, 64, 67, 0.3), 0px 1px 3px 1px rgba(60, 64, 67, 0.15);\n",
              "      fill: #174EA6;\n",
              "    }\n",
              "\n",
              "    [theme=dark] .colab-df-convert {\n",
              "      background-color: #3B4455;\n",
              "      fill: #D2E3FC;\n",
              "    }\n",
              "\n",
              "    [theme=dark] .colab-df-convert:hover {\n",
              "      background-color: #434B5C;\n",
              "      box-shadow: 0px 1px 3px 1px rgba(0, 0, 0, 0.15);\n",
              "      filter: drop-shadow(0px 1px 2px rgba(0, 0, 0, 0.3));\n",
              "      fill: #FFFFFF;\n",
              "    }\n",
              "  </style>\n",
              "\n",
              "      <script>\n",
              "        const buttonEl =\n",
              "          document.querySelector('#df-ca309a08-1b01-42f1-8224-c7e893f361ef button.colab-df-convert');\n",
              "        buttonEl.style.display =\n",
              "          google.colab.kernel.accessAllowed ? 'block' : 'none';\n",
              "\n",
              "        async function convertToInteractive(key) {\n",
              "          const element = document.querySelector('#df-ca309a08-1b01-42f1-8224-c7e893f361ef');\n",
              "          const dataTable =\n",
              "            await google.colab.kernel.invokeFunction('convertToInteractive',\n",
              "                                                     [key], {});\n",
              "          if (!dataTable) return;\n",
              "\n",
              "          const docLinkHtml = 'Like what you see? Visit the ' +\n",
              "            '<a target=\"_blank\" href=https://colab.research.google.com/notebooks/data_table.ipynb>data table notebook</a>'\n",
              "            + ' to learn more about interactive tables.';\n",
              "          element.innerHTML = '';\n",
              "          dataTable['output_type'] = 'display_data';\n",
              "          await google.colab.output.renderOutput(dataTable, element);\n",
              "          const docLink = document.createElement('div');\n",
              "          docLink.innerHTML = docLinkHtml;\n",
              "          element.appendChild(docLink);\n",
              "        }\n",
              "      </script>\n",
              "    </div>\n",
              "  </div>\n",
              "  "
            ]
          },
          "metadata": {},
          "execution_count": 38
        }
      ],
      "source": [
        "# **2.3. Analisis descriptivo de la variable**\n",
        "DBCA.describe()\n"
      ]
    },
    {
      "cell_type": "markdown",
      "metadata": {
        "id": "PuKoFeMIWgtT"
      },
      "source": [
        "# **2.4 Acediendo a algunos atributos del DataFrame**"
      ]
    },
    {
      "cell_type": "code",
      "execution_count": null,
      "metadata": {
        "colab": {
          "base_uri": "https://localhost:8080/"
        },
        "id": "9bgKv6BR08sE",
        "outputId": "d9cfe09f-90c8-4532-c5e2-59fbafcdb315"
      },
      "outputs": [
        {
          "output_type": "execute_result",
          "data": {
            "text/plain": [
              "Index(['Pesos', 'S_Ferroso', 'V_Sanguineo'], dtype='object')"
            ]
          },
          "metadata": {},
          "execution_count": 39
        }
      ],
      "source": [
        "# **a Acediendo al atributo columns**\n",
        "DBCA.columns"
      ]
    },
    {
      "cell_type": "code",
      "execution_count": null,
      "metadata": {
        "colab": {
          "base_uri": "https://localhost:8080/"
        },
        "id": "4SQF-PSW08wS",
        "outputId": "54f605af-bd5c-4e51-cadf-93d7defc6f58"
      },
      "outputs": [
        {
          "output_type": "execute_result",
          "data": {
            "text/plain": [
              "Pesos           object\n",
              "S_Ferroso       object\n",
              "V_Sanguineo    float64\n",
              "dtype: object"
            ]
          },
          "metadata": {},
          "execution_count": 40
        }
      ],
      "source": [
        "# **b Accediendo al atributo tipo de datos de cada columna**\n",
        "DBCA.dtypes"
      ]
    },
    {
      "cell_type": "code",
      "execution_count": null,
      "metadata": {
        "colab": {
          "base_uri": "https://localhost:8080/"
        },
        "id": "iomJNQzC080F",
        "outputId": "5e6a933c-7342-4ce0-b614-5e8087680dee"
      },
      "outputs": [
        {
          "output_type": "execute_result",
          "data": {
            "text/plain": [
              "B1    4\n",
              "B2    4\n",
              "B3    4\n",
              "B4    4\n",
              "B5    4\n",
              "Name: Pesos, dtype: int64"
            ]
          },
          "metadata": {},
          "execution_count": 41
        }
      ],
      "source": [
        "#**c. Contar las observaciones**\n",
        "DBCA[\"Pesos\"].value_counts()"
      ]
    },
    {
      "cell_type": "code",
      "execution_count": null,
      "metadata": {
        "colab": {
          "base_uri": "https://localhost:8080/"
        },
        "id": "zLmFre0Z083n",
        "outputId": "73f28b81-430c-4ec9-af34-9b42f4991d7e"
      },
      "outputs": [
        {
          "output_type": "execute_result",
          "data": {
            "text/plain": [
              "T1    5\n",
              "T2    5\n",
              "T3    5\n",
              "T4    5\n",
              "Name: S_Ferroso, dtype: int64"
            ]
          },
          "metadata": {},
          "execution_count": 42
        }
      ],
      "source": [
        "#**d. Contar las observaciones**\n",
        "DBCA[\"S_Ferroso\"].value_counts()"
      ]
    },
    {
      "cell_type": "code",
      "execution_count": null,
      "metadata": {
        "colab": {
          "base_uri": "https://localhost:8080/"
        },
        "id": "mn1Oz4qv087h",
        "outputId": "7d354859-9323-42ef-a6f9-b6271805216c"
      },
      "outputs": [
        {
          "output_type": "execute_result",
          "data": {
            "text/plain": [
              "4.1    4\n",
              "6.5    3\n",
              "6.9    2\n",
              "4.3    2\n",
              "4.9    1\n",
              "5.3    1\n",
              "4.0    1\n",
              "6.2    1\n",
              "4.5    1\n",
              "4.8    1\n",
              "6.8    1\n",
              "4.2    1\n",
              "6.0    1\n",
              "Name: V_Sanguineo, dtype: int64"
            ]
          },
          "metadata": {},
          "execution_count": 43
        }
      ],
      "source": [
        "#**e. Contar las observaciones**\n",
        "DBCA[\"V_Sanguineo\"].value_counts()"
      ]
    },
    {
      "cell_type": "code",
      "execution_count": null,
      "metadata": {
        "colab": {
          "base_uri": "https://localhost:8080/",
          "height": 300
        },
        "id": "S94HY--K08-2",
        "outputId": "78e055fe-7fd5-448f-8d30-cd673212b227"
      },
      "outputs": [
        {
          "output_type": "execute_result",
          "data": {
            "text/plain": [
              "       V_Sanguineo\n",
              "count    20.000000\n",
              "mean      5.250000\n",
              "std       1.139021\n",
              "min       4.000000\n",
              "25%       4.175000\n",
              "50%       4.850000\n",
              "75%       6.500000\n",
              "max       6.900000"
            ],
            "text/html": [
              "\n",
              "  <div id=\"df-4e241626-225f-4db6-89ff-d2ae9843c34c\">\n",
              "    <div class=\"colab-df-container\">\n",
              "      <div>\n",
              "<style scoped>\n",
              "    .dataframe tbody tr th:only-of-type {\n",
              "        vertical-align: middle;\n",
              "    }\n",
              "\n",
              "    .dataframe tbody tr th {\n",
              "        vertical-align: top;\n",
              "    }\n",
              "\n",
              "    .dataframe thead th {\n",
              "        text-align: right;\n",
              "    }\n",
              "</style>\n",
              "<table border=\"1\" class=\"dataframe\">\n",
              "  <thead>\n",
              "    <tr style=\"text-align: right;\">\n",
              "      <th></th>\n",
              "      <th>V_Sanguineo</th>\n",
              "    </tr>\n",
              "  </thead>\n",
              "  <tbody>\n",
              "    <tr>\n",
              "      <th>count</th>\n",
              "      <td>20.000000</td>\n",
              "    </tr>\n",
              "    <tr>\n",
              "      <th>mean</th>\n",
              "      <td>5.250000</td>\n",
              "    </tr>\n",
              "    <tr>\n",
              "      <th>std</th>\n",
              "      <td>1.139021</td>\n",
              "    </tr>\n",
              "    <tr>\n",
              "      <th>min</th>\n",
              "      <td>4.000000</td>\n",
              "    </tr>\n",
              "    <tr>\n",
              "      <th>25%</th>\n",
              "      <td>4.175000</td>\n",
              "    </tr>\n",
              "    <tr>\n",
              "      <th>50%</th>\n",
              "      <td>4.850000</td>\n",
              "    </tr>\n",
              "    <tr>\n",
              "      <th>75%</th>\n",
              "      <td>6.500000</td>\n",
              "    </tr>\n",
              "    <tr>\n",
              "      <th>max</th>\n",
              "      <td>6.900000</td>\n",
              "    </tr>\n",
              "  </tbody>\n",
              "</table>\n",
              "</div>\n",
              "      <button class=\"colab-df-convert\" onclick=\"convertToInteractive('df-4e241626-225f-4db6-89ff-d2ae9843c34c')\"\n",
              "              title=\"Convert this dataframe to an interactive table.\"\n",
              "              style=\"display:none;\">\n",
              "        \n",
              "  <svg xmlns=\"http://www.w3.org/2000/svg\" height=\"24px\"viewBox=\"0 0 24 24\"\n",
              "       width=\"24px\">\n",
              "    <path d=\"M0 0h24v24H0V0z\" fill=\"none\"/>\n",
              "    <path d=\"M18.56 5.44l.94 2.06.94-2.06 2.06-.94-2.06-.94-.94-2.06-.94 2.06-2.06.94zm-11 1L8.5 8.5l.94-2.06 2.06-.94-2.06-.94L8.5 2.5l-.94 2.06-2.06.94zm10 10l.94 2.06.94-2.06 2.06-.94-2.06-.94-.94-2.06-.94 2.06-2.06.94z\"/><path d=\"M17.41 7.96l-1.37-1.37c-.4-.4-.92-.59-1.43-.59-.52 0-1.04.2-1.43.59L10.3 9.45l-7.72 7.72c-.78.78-.78 2.05 0 2.83L4 21.41c.39.39.9.59 1.41.59.51 0 1.02-.2 1.41-.59l7.78-7.78 2.81-2.81c.8-.78.8-2.07 0-2.86zM5.41 20L4 18.59l7.72-7.72 1.47 1.35L5.41 20z\"/>\n",
              "  </svg>\n",
              "      </button>\n",
              "      \n",
              "  <style>\n",
              "    .colab-df-container {\n",
              "      display:flex;\n",
              "      flex-wrap:wrap;\n",
              "      gap: 12px;\n",
              "    }\n",
              "\n",
              "    .colab-df-convert {\n",
              "      background-color: #E8F0FE;\n",
              "      border: none;\n",
              "      border-radius: 50%;\n",
              "      cursor: pointer;\n",
              "      display: none;\n",
              "      fill: #1967D2;\n",
              "      height: 32px;\n",
              "      padding: 0 0 0 0;\n",
              "      width: 32px;\n",
              "    }\n",
              "\n",
              "    .colab-df-convert:hover {\n",
              "      background-color: #E2EBFA;\n",
              "      box-shadow: 0px 1px 2px rgba(60, 64, 67, 0.3), 0px 1px 3px 1px rgba(60, 64, 67, 0.15);\n",
              "      fill: #174EA6;\n",
              "    }\n",
              "\n",
              "    [theme=dark] .colab-df-convert {\n",
              "      background-color: #3B4455;\n",
              "      fill: #D2E3FC;\n",
              "    }\n",
              "\n",
              "    [theme=dark] .colab-df-convert:hover {\n",
              "      background-color: #434B5C;\n",
              "      box-shadow: 0px 1px 3px 1px rgba(0, 0, 0, 0.15);\n",
              "      filter: drop-shadow(0px 1px 2px rgba(0, 0, 0, 0.3));\n",
              "      fill: #FFFFFF;\n",
              "    }\n",
              "  </style>\n",
              "\n",
              "      <script>\n",
              "        const buttonEl =\n",
              "          document.querySelector('#df-4e241626-225f-4db6-89ff-d2ae9843c34c button.colab-df-convert');\n",
              "        buttonEl.style.display =\n",
              "          google.colab.kernel.accessAllowed ? 'block' : 'none';\n",
              "\n",
              "        async function convertToInteractive(key) {\n",
              "          const element = document.querySelector('#df-4e241626-225f-4db6-89ff-d2ae9843c34c');\n",
              "          const dataTable =\n",
              "            await google.colab.kernel.invokeFunction('convertToInteractive',\n",
              "                                                     [key], {});\n",
              "          if (!dataTable) return;\n",
              "\n",
              "          const docLinkHtml = 'Like what you see? Visit the ' +\n",
              "            '<a target=\"_blank\" href=https://colab.research.google.com/notebooks/data_table.ipynb>data table notebook</a>'\n",
              "            + ' to learn more about interactive tables.';\n",
              "          element.innerHTML = '';\n",
              "          dataTable['output_type'] = 'display_data';\n",
              "          await google.colab.output.renderOutput(dataTable, element);\n",
              "          const docLink = document.createElement('div');\n",
              "          docLink.innerHTML = docLinkHtml;\n",
              "          element.appendChild(docLink);\n",
              "        }\n",
              "      </script>\n",
              "    </div>\n",
              "  </div>\n",
              "  "
            ]
          },
          "metadata": {},
          "execution_count": 44
        }
      ],
      "source": [
        "DBCA[[\"Pesos\",\"V_Sanguineo\"]].describe()"
      ]
    },
    {
      "cell_type": "code",
      "execution_count": null,
      "metadata": {
        "colab": {
          "base_uri": "https://localhost:8080/",
          "height": 112
        },
        "id": "dX-BxDNiY5TK",
        "outputId": "7f7b8e1d-4354-46bf-9081-beff258cbb2c"
      },
      "outputs": [
        {
          "output_type": "execute_result",
          "data": {
            "text/plain": [
              "              0    1    2    3    4    5    6    7    8    9    10   11   12  \\\n",
              "Pesos         B1   B1   B1   B1   B2   B2   B2   B2   B3   B3   B3   B3   B4   \n",
              "V_Sanguineo  4.1  6.5  4.1  4.9  4.1  5.3  4.0  6.2  6.5  6.9  4.5  4.8  4.3   \n",
              "\n",
              "              13   14   15   16   17   18   19  \n",
              "Pesos         B4   B4   B4   B5   B5   B5   B5  \n",
              "V_Sanguineo  6.8  4.3  4.2  6.0  6.5  4.1  6.9  "
            ],
            "text/html": [
              "\n",
              "  <div id=\"df-3c2d7bb1-fb62-4239-a54e-aae0102b9696\">\n",
              "    <div class=\"colab-df-container\">\n",
              "      <div>\n",
              "<style scoped>\n",
              "    .dataframe tbody tr th:only-of-type {\n",
              "        vertical-align: middle;\n",
              "    }\n",
              "\n",
              "    .dataframe tbody tr th {\n",
              "        vertical-align: top;\n",
              "    }\n",
              "\n",
              "    .dataframe thead th {\n",
              "        text-align: right;\n",
              "    }\n",
              "</style>\n",
              "<table border=\"1\" class=\"dataframe\">\n",
              "  <thead>\n",
              "    <tr style=\"text-align: right;\">\n",
              "      <th></th>\n",
              "      <th>0</th>\n",
              "      <th>1</th>\n",
              "      <th>2</th>\n",
              "      <th>3</th>\n",
              "      <th>4</th>\n",
              "      <th>5</th>\n",
              "      <th>6</th>\n",
              "      <th>7</th>\n",
              "      <th>8</th>\n",
              "      <th>9</th>\n",
              "      <th>10</th>\n",
              "      <th>11</th>\n",
              "      <th>12</th>\n",
              "      <th>13</th>\n",
              "      <th>14</th>\n",
              "      <th>15</th>\n",
              "      <th>16</th>\n",
              "      <th>17</th>\n",
              "      <th>18</th>\n",
              "      <th>19</th>\n",
              "    </tr>\n",
              "  </thead>\n",
              "  <tbody>\n",
              "    <tr>\n",
              "      <th>Pesos</th>\n",
              "      <td>B1</td>\n",
              "      <td>B1</td>\n",
              "      <td>B1</td>\n",
              "      <td>B1</td>\n",
              "      <td>B2</td>\n",
              "      <td>B2</td>\n",
              "      <td>B2</td>\n",
              "      <td>B2</td>\n",
              "      <td>B3</td>\n",
              "      <td>B3</td>\n",
              "      <td>B3</td>\n",
              "      <td>B3</td>\n",
              "      <td>B4</td>\n",
              "      <td>B4</td>\n",
              "      <td>B4</td>\n",
              "      <td>B4</td>\n",
              "      <td>B5</td>\n",
              "      <td>B5</td>\n",
              "      <td>B5</td>\n",
              "      <td>B5</td>\n",
              "    </tr>\n",
              "    <tr>\n",
              "      <th>V_Sanguineo</th>\n",
              "      <td>4.1</td>\n",
              "      <td>6.5</td>\n",
              "      <td>4.1</td>\n",
              "      <td>4.9</td>\n",
              "      <td>4.1</td>\n",
              "      <td>5.3</td>\n",
              "      <td>4.0</td>\n",
              "      <td>6.2</td>\n",
              "      <td>6.5</td>\n",
              "      <td>6.9</td>\n",
              "      <td>4.5</td>\n",
              "      <td>4.8</td>\n",
              "      <td>4.3</td>\n",
              "      <td>6.8</td>\n",
              "      <td>4.3</td>\n",
              "      <td>4.2</td>\n",
              "      <td>6.0</td>\n",
              "      <td>6.5</td>\n",
              "      <td>4.1</td>\n",
              "      <td>6.9</td>\n",
              "    </tr>\n",
              "  </tbody>\n",
              "</table>\n",
              "</div>\n",
              "      <button class=\"colab-df-convert\" onclick=\"convertToInteractive('df-3c2d7bb1-fb62-4239-a54e-aae0102b9696')\"\n",
              "              title=\"Convert this dataframe to an interactive table.\"\n",
              "              style=\"display:none;\">\n",
              "        \n",
              "  <svg xmlns=\"http://www.w3.org/2000/svg\" height=\"24px\"viewBox=\"0 0 24 24\"\n",
              "       width=\"24px\">\n",
              "    <path d=\"M0 0h24v24H0V0z\" fill=\"none\"/>\n",
              "    <path d=\"M18.56 5.44l.94 2.06.94-2.06 2.06-.94-2.06-.94-.94-2.06-.94 2.06-2.06.94zm-11 1L8.5 8.5l.94-2.06 2.06-.94-2.06-.94L8.5 2.5l-.94 2.06-2.06.94zm10 10l.94 2.06.94-2.06 2.06-.94-2.06-.94-.94-2.06-.94 2.06-2.06.94z\"/><path d=\"M17.41 7.96l-1.37-1.37c-.4-.4-.92-.59-1.43-.59-.52 0-1.04.2-1.43.59L10.3 9.45l-7.72 7.72c-.78.78-.78 2.05 0 2.83L4 21.41c.39.39.9.59 1.41.59.51 0 1.02-.2 1.41-.59l7.78-7.78 2.81-2.81c.8-.78.8-2.07 0-2.86zM5.41 20L4 18.59l7.72-7.72 1.47 1.35L5.41 20z\"/>\n",
              "  </svg>\n",
              "      </button>\n",
              "      \n",
              "  <style>\n",
              "    .colab-df-container {\n",
              "      display:flex;\n",
              "      flex-wrap:wrap;\n",
              "      gap: 12px;\n",
              "    }\n",
              "\n",
              "    .colab-df-convert {\n",
              "      background-color: #E8F0FE;\n",
              "      border: none;\n",
              "      border-radius: 50%;\n",
              "      cursor: pointer;\n",
              "      display: none;\n",
              "      fill: #1967D2;\n",
              "      height: 32px;\n",
              "      padding: 0 0 0 0;\n",
              "      width: 32px;\n",
              "    }\n",
              "\n",
              "    .colab-df-convert:hover {\n",
              "      background-color: #E2EBFA;\n",
              "      box-shadow: 0px 1px 2px rgba(60, 64, 67, 0.3), 0px 1px 3px 1px rgba(60, 64, 67, 0.15);\n",
              "      fill: #174EA6;\n",
              "    }\n",
              "\n",
              "    [theme=dark] .colab-df-convert {\n",
              "      background-color: #3B4455;\n",
              "      fill: #D2E3FC;\n",
              "    }\n",
              "\n",
              "    [theme=dark] .colab-df-convert:hover {\n",
              "      background-color: #434B5C;\n",
              "      box-shadow: 0px 1px 3px 1px rgba(0, 0, 0, 0.15);\n",
              "      filter: drop-shadow(0px 1px 2px rgba(0, 0, 0, 0.3));\n",
              "      fill: #FFFFFF;\n",
              "    }\n",
              "  </style>\n",
              "\n",
              "      <script>\n",
              "        const buttonEl =\n",
              "          document.querySelector('#df-3c2d7bb1-fb62-4239-a54e-aae0102b9696 button.colab-df-convert');\n",
              "        buttonEl.style.display =\n",
              "          google.colab.kernel.accessAllowed ? 'block' : 'none';\n",
              "\n",
              "        async function convertToInteractive(key) {\n",
              "          const element = document.querySelector('#df-3c2d7bb1-fb62-4239-a54e-aae0102b9696');\n",
              "          const dataTable =\n",
              "            await google.colab.kernel.invokeFunction('convertToInteractive',\n",
              "                                                     [key], {});\n",
              "          if (!dataTable) return;\n",
              "\n",
              "          const docLinkHtml = 'Like what you see? Visit the ' +\n",
              "            '<a target=\"_blank\" href=https://colab.research.google.com/notebooks/data_table.ipynb>data table notebook</a>'\n",
              "            + ' to learn more about interactive tables.';\n",
              "          element.innerHTML = '';\n",
              "          dataTable['output_type'] = 'display_data';\n",
              "          await google.colab.output.renderOutput(dataTable, element);\n",
              "          const docLink = document.createElement('div');\n",
              "          docLink.innerHTML = docLinkHtml;\n",
              "          element.appendChild(docLink);\n",
              "        }\n",
              "      </script>\n",
              "    </div>\n",
              "  </div>\n",
              "  "
            ]
          },
          "metadata": {},
          "execution_count": 45
        }
      ],
      "source": [
        "DBCA[[\"Pesos\",'V_Sanguineo']].T"
      ]
    },
    {
      "cell_type": "markdown",
      "metadata": {
        "id": "45UDFPpPaWvt"
      },
      "source": [
        "# **2.5. BoxPlot para DBCA : V_Sanguineo vs S_Ferroso**"
      ]
    },
    {
      "cell_type": "code",
      "execution_count": null,
      "metadata": {
        "colab": {
          "base_uri": "https://localhost:8080/"
        },
        "id": "bBTKWOdOZ35u",
        "outputId": "404a6f11-ae75-4aa6-d5e0-d4e65de4993e"
      },
      "outputs": [
        {
          "output_type": "execute_result",
          "data": {
            "text/plain": [
              "<Axes: title={'center': 'V_Sanguineo vs S_Ferroso'}, xlabel='S_Ferroso', ylabel='V_Sanguineo'>"
            ]
          },
          "metadata": {},
          "execution_count": 46
        },
        {
          "output_type": "display_data",
          "data": {
            "text/plain": [
              "<Figure size 1000x1000 with 1 Axes>"
            ],
            "image/png": "[encoded data removed]"
          },
          "metadata": {}
        }
      ],
      "source": [
        "# **2.5. BoxPlot para DBCA: V_Sanguineo vs S_Ferroso**\n",
        "fig, ax = plt.subplots(1, 1, figsize=(10, 10))\n",
        "ax.set_title('V_Sanguineo vs S_Ferroso')\n",
        "sns.boxplot(x=\"S_Ferroso\", y='V_Sanguineo',data=DBCA,ax=ax)\n"
      ]
    },
    {
      "cell_type": "markdown",
      "metadata": {
        "id": "_Ma9oofWc9nU"
      },
      "source": [
        "# **2.6. BoxPlot para DBCA: V_Sanguineo vs Pesos**"
      ]
    },
    {
      "cell_type": "code",
      "execution_count": null,
      "metadata": {
        "colab": {
          "base_uri": "https://localhost:8080/",
          "height": 889
        },
        "id": "gSqzJzAOZ3-L",
        "outputId": "1af139d3-5425-4f27-edab-b548156ac434"
      },
      "outputs": [
        {
          "output_type": "execute_result",
          "data": {
            "text/plain": [
              "<Axes: title={'center': 'V_Sanguineo vs Pesos'}, xlabel='Pesos', ylabel='V_Sanguineo'>"
            ]
          },
          "metadata": {},
          "execution_count": 47
        },
        {
          "output_type": "display_data",
          "data": {
            "text/plain": [
              "<Figure size 1000x1000 with 1 Axes>"
            ],
            "image/png": "[encoded data removed]"
          },
          "metadata": {}
        }
      ],
      "source": [
        "# **2.6. BoxPlot para DBCA: V_Sanguineo vs Pesos**\n",
        "fig, ax = plt.subplots(1, 1, figsize=(10, 10))\n",
        "ax.set_title('V_Sanguineo vs Pesos')\n",
        "sns.boxplot(x=\"Pesos\", y='V_Sanguineo',data=DBCA,ax=ax)\n"
      ]
    },
    {
      "cell_type": "markdown",
      "source": [
        "# **2.7 Diagrama Bivariado no es sposible dado que no hay replicas**"
      ],
      "metadata": {
        "id": "b0d82p6-vYgt"
      }
    },
    {
      "cell_type": "code",
      "execution_count": null,
      "metadata": {
        "colab": {
          "base_uri": "https://localhost:8080/",
          "height": 410
        },
        "id": "Oys27TbwZ4Ck",
        "outputId": "56e2a665-bb02-4615-b672-decf441de1ce"
      },
      "outputs": [
        {
          "output_type": "display_data",
          "data": {
            "text/plain": [
              "<Figure size 800x400 with 1 Axes>"
            ],
            "image/png": "[encoded data removed]"
          },
          "metadata": {}
        }
      ],
      "source": [
        "# **2.7 Diagrama Bivariado no es sposible dado que no hay replicas**\n",
        "fig, ax = plt.subplots(1, 1, figsize=(8, 4))\n",
        "ax.set_title('V_Sanguineo vs S_Ferroso y Pesos')\n",
        "sns.boxplot(x=\"S_Ferroso\", y=\"V_Sanguineo\", hue='Pesos', data=DBCA, ax=ax);"
      ]
    },
    {
      "cell_type": "markdown",
      "source": [
        "# **2.8 Análisis de Varianza Tipo I**"
      ],
      "metadata": {
        "id": "Zyim0z8XwRuh"
      }
    },
    {
      "cell_type": "code",
      "source": [
        "# **2.8 Análisis de Varianza Tipo I**\n",
        "modeloDBCA = ols(\"V_Sanguineo ~ S_Ferroso + Pesos\", data = DBCA).fit()\n",
        "anova_result2 = sm.stats.anova_lm(modeloDBCA, typ=2)\n",
        "print (anova_result2)"
      ],
      "metadata": {
        "colab": {
          "base_uri": "https://localhost:8080/"
        },
        "id": "_uPzo9MPvhA8",
        "outputId": "525aabbb-ddbb-4cc2-d7bb-ffa0a5d36212"
      },
      "execution_count": null,
      "outputs": [
        {
          "output_type": "stream",
          "name": "stdout",
          "text": [
            "           sum_sq    df         F    PR(>F)\n",
            "S_Ferroso  12.550   3.0  6.015578  0.009644\n",
            "Pesos       3.755   4.0  1.349910  0.307973\n",
            "Residual    8.345  12.0       NaN       NaN\n"
          ]
        }
      ]
    },
    {
      "cell_type": "code",
      "source": [
        "anova_result2.T"
      ],
      "metadata": {
        "colab": {
          "base_uri": "https://localhost:8080/",
          "height": 175
        },
        "id": "HJsLrxJJwClb",
        "outputId": "6f7fc3fe-b538-4988-dc45-d30cdb8e935a"
      },
      "execution_count": null,
      "outputs": [
        {
          "output_type": "execute_result",
          "data": {
            "text/plain": [
              "        S_Ferroso     Pesos  Residual\n",
              "sum_sq  12.550000  3.755000     8.345\n",
              "df       3.000000  4.000000    12.000\n",
              "F        6.015578  1.349910       NaN\n",
              "PR(>F)   0.009644  0.307973       NaN"
            ],
            "text/html": [
              "\n",
              "  <div id=\"df-dd4b0e4d-cef0-42f6-9dc4-8b626a593341\">\n",
              "    <div class=\"colab-df-container\">\n",
              "      <div>\n",
              "<style scoped>\n",
              "    .dataframe tbody tr th:only-of-type {\n",
              "        vertical-align: middle;\n",
              "    }\n",
              "\n",
              "    .dataframe tbody tr th {\n",
              "        vertical-align: top;\n",
              "    }\n",
              "\n",
              "    .dataframe thead th {\n",
              "        text-align: right;\n",
              "    }\n",
              "</style>\n",
              "<table border=\"1\" class=\"dataframe\">\n",
              "  <thead>\n",
              "    <tr style=\"text-align: right;\">\n",
              "      <th></th>\n",
              "      <th>S_Ferroso</th>\n",
              "      <th>Pesos</th>\n",
              "      <th>Residual</th>\n",
              "    </tr>\n",
              "  </thead>\n",
              "  <tbody>\n",
              "    <tr>\n",
              "      <th>sum_sq</th>\n",
              "      <td>12.550000</td>\n",
              "      <td>3.755000</td>\n",
              "      <td>8.345</td>\n",
              "    </tr>\n",
              "    <tr>\n",
              "      <th>df</th>\n",
              "      <td>3.000000</td>\n",
              "      <td>4.000000</td>\n",
              "      <td>12.000</td>\n",
              "    </tr>\n",
              "    <tr>\n",
              "      <th>F</th>\n",
              "      <td>6.015578</td>\n",
              "      <td>1.349910</td>\n",
              "      <td>NaN</td>\n",
              "    </tr>\n",
              "    <tr>\n",
              "      <th>PR(&gt;F)</th>\n",
              "      <td>0.009644</td>\n",
              "      <td>0.307973</td>\n",
              "      <td>NaN</td>\n",
              "    </tr>\n",
              "  </tbody>\n",
              "</table>\n",
              "</div>\n",
              "      <button class=\"colab-df-convert\" onclick=\"convertToInteractive('df-dd4b0e4d-cef0-42f6-9dc4-8b626a593341')\"\n",
              "              title=\"Convert this dataframe to an interactive table.\"\n",
              "              style=\"display:none;\">\n",
              "        \n",
              "  <svg xmlns=\"http://www.w3.org/2000/svg\" height=\"24px\"viewBox=\"0 0 24 24\"\n",
              "       width=\"24px\">\n",
              "    <path d=\"M0 0h24v24H0V0z\" fill=\"none\"/>\n",
              "    <path d=\"M18.56 5.44l.94 2.06.94-2.06 2.06-.94-2.06-.94-.94-2.06-.94 2.06-2.06.94zm-11 1L8.5 8.5l.94-2.06 2.06-.94-2.06-.94L8.5 2.5l-.94 2.06-2.06.94zm10 10l.94 2.06.94-2.06 2.06-.94-2.06-.94-.94-2.06-.94 2.06-2.06.94z\"/><path d=\"M17.41 7.96l-1.37-1.37c-.4-.4-.92-.59-1.43-.59-.52 0-1.04.2-1.43.59L10.3 9.45l-7.72 7.72c-.78.78-.78 2.05 0 2.83L4 21.41c.39.39.9.59 1.41.59.51 0 1.02-.2 1.41-.59l7.78-7.78 2.81-2.81c.8-.78.8-2.07 0-2.86zM5.41 20L4 18.59l7.72-7.72 1.47 1.35L5.41 20z\"/>\n",
              "  </svg>\n",
              "      </button>\n",
              "      \n",
              "  <style>\n",
              "    .colab-df-container {\n",
              "      display:flex;\n",
              "      flex-wrap:wrap;\n",
              "      gap: 12px;\n",
              "    }\n",
              "\n",
              "    .colab-df-convert {\n",
              "      background-color: #E8F0FE;\n",
              "      border: none;\n",
              "      border-radius: 50%;\n",
              "      cursor: pointer;\n",
              "      display: none;\n",
              "      fill: #1967D2;\n",
              "      height: 32px;\n",
              "      padding: 0 0 0 0;\n",
              "      width: 32px;\n",
              "    }\n",
              "\n",
              "    .colab-df-convert:hover {\n",
              "      background-color: #E2EBFA;\n",
              "      box-shadow: 0px 1px 2px rgba(60, 64, 67, 0.3), 0px 1px 3px 1px rgba(60, 64, 67, 0.15);\n",
              "      fill: #174EA6;\n",
              "    }\n",
              "\n",
              "    [theme=dark] .colab-df-convert {\n",
              "      background-color: #3B4455;\n",
              "      fill: #D2E3FC;\n",
              "    }\n",
              "\n",
              "    [theme=dark] .colab-df-convert:hover {\n",
              "      background-color: #434B5C;\n",
              "      box-shadow: 0px 1px 3px 1px rgba(0, 0, 0, 0.15);\n",
              "      filter: drop-shadow(0px 1px 2px rgba(0, 0, 0, 0.3));\n",
              "      fill: #FFFFFF;\n",
              "    }\n",
              "  </style>\n",
              "\n",
              "      <script>\n",
              "        const buttonEl =\n",
              "          document.querySelector('#df-dd4b0e4d-cef0-42f6-9dc4-8b626a593341 button.colab-df-convert');\n",
              "        buttonEl.style.display =\n",
              "          google.colab.kernel.accessAllowed ? 'block' : 'none';\n",
              "\n",
              "        async function convertToInteractive(key) {\n",
              "          const element = document.querySelector('#df-dd4b0e4d-cef0-42f6-9dc4-8b626a593341');\n",
              "          const dataTable =\n",
              "            await google.colab.kernel.invokeFunction('convertToInteractive',\n",
              "                                                     [key], {});\n",
              "          if (!dataTable) return;\n",
              "\n",
              "          const docLinkHtml = 'Like what you see? Visit the ' +\n",
              "            '<a target=\"_blank\" href=https://colab.research.google.com/notebooks/data_table.ipynb>data table notebook</a>'\n",
              "            + ' to learn more about interactive tables.';\n",
              "          element.innerHTML = '';\n",
              "          dataTable['output_type'] = 'display_data';\n",
              "          await google.colab.output.renderOutput(dataTable, element);\n",
              "          const docLink = document.createElement('div');\n",
              "          docLink.innerHTML = docLinkHtml;\n",
              "          element.appendChild(docLink);\n",
              "        }\n",
              "      </script>\n",
              "    </div>\n",
              "  </div>\n",
              "  "
            ]
          },
          "metadata": {},
          "execution_count": 50
        }
      ]
    },
    {
      "cell_type": "code",
      "source": [
        "print(modeloDBCA.summary())"
      ],
      "metadata": {
        "colab": {
          "base_uri": "https://localhost:8080/"
        },
        "id": "aH_14PFvwqYx",
        "outputId": "81296156-9c81-4724-bf48-fde84d5588fc"
      },
      "execution_count": null,
      "outputs": [
        {
          "output_type": "stream",
          "name": "stdout",
          "text": [
            "                            OLS Regression Results                            \n",
            "==============================================================================\n",
            "Dep. Variable:            V_Sanguineo   R-squared:                       0.661\n",
            "Model:                            OLS   Adj. R-squared:                  0.464\n",
            "Method:                 Least Squares   F-statistic:                     3.349\n",
            "Date:                Tue, 09 May 2023   Prob (F-statistic):             0.0321\n",
            "Time:                        22:58:26   Log-Likelihood:                -19.638\n",
            "No. Observations:                  20   AIC:                             55.28\n",
            "Df Residuals:                      12   BIC:                             63.24\n",
            "Df Model:                           7                                         \n",
            "Covariance Type:            nonrobust                                         \n",
            "===================================================================================\n",
            "                      coef    std err          t      P>|t|      [0.025      0.975]\n",
            "-----------------------------------------------------------------------------------\n",
            "Intercept           4.6500      0.527      8.817      0.000       3.501       5.799\n",
            "S_Ferroso[T.T2]     1.4000      0.527      2.654      0.021       0.251       2.549\n",
            "S_Ferroso[T.T3]    -0.8000      0.527     -1.517      0.155      -1.949       0.349\n",
            "S_Ferroso[T.T4]     0.4000      0.527      0.758      0.463      -0.749       1.549\n",
            "Pesos[T.B2]     -4.406e-16      0.590  -7.47e-16      1.000      -1.285       1.285\n",
            "Pesos[T.B3]         0.7750      0.590      1.314      0.213      -0.510       2.060\n",
            "Pesos[T.B4]      2.207e-15      0.590   3.74e-15      1.000      -1.285       1.285\n",
            "Pesos[T.B5]         0.9750      0.590      1.653      0.124      -0.310       2.260\n",
            "==============================================================================\n",
            "Omnibus:                        2.197   Durbin-Watson:                   1.608\n",
            "Prob(Omnibus):                  0.333   Jarque-Bera (JB):                1.160\n",
            "Skew:                           0.202   Prob(JB):                        0.560\n",
            "Kurtosis:                       1.892   Cond. No.                         6.42\n",
            "==============================================================================\n",
            "\n",
            "Notes:\n",
            "[1] Standard Errors assume that the covariance matrix of the errors is correctly specified.\n"
          ]
        }
      ]
    },
    {
      "cell_type": "markdown",
      "source": [
        "# **2.9 Análisis de Varianza Tipo II**"
      ],
      "metadata": {
        "id": "GNHFFx3CxAOR"
      }
    },
    {
      "cell_type": "code",
      "source": [
        "# **2.9 Análisis de Varianza Tipo II**\n",
        "modeloDBCA2 = smf.ols(\"V_Sanguineo ~ S_Ferroso + Pesos\", data = DBCA).fit()\n",
        "print(modeloDBCA2.summary())"
      ],
      "metadata": {
        "colab": {
          "base_uri": "https://localhost:8080/"
        },
        "id": "K-xYuXhRwCqx",
        "outputId": "bb740cdf-0d22-4088-9281-4e24727601e5"
      },
      "execution_count": null,
      "outputs": [
        {
          "output_type": "stream",
          "name": "stdout",
          "text": [
            "                            OLS Regression Results                            \n",
            "==============================================================================\n",
            "Dep. Variable:            V_Sanguineo   R-squared:                       0.661\n",
            "Model:                            OLS   Adj. R-squared:                  0.464\n",
            "Method:                 Least Squares   F-statistic:                     3.349\n",
            "Date:                Tue, 09 May 2023   Prob (F-statistic):             0.0321\n",
            "Time:                        22:58:26   Log-Likelihood:                -19.638\n",
            "No. Observations:                  20   AIC:                             55.28\n",
            "Df Residuals:                      12   BIC:                             63.24\n",
            "Df Model:                           7                                         \n",
            "Covariance Type:            nonrobust                                         \n",
            "===================================================================================\n",
            "                      coef    std err          t      P>|t|      [0.025      0.975]\n",
            "-----------------------------------------------------------------------------------\n",
            "Intercept           4.6500      0.527      8.817      0.000       3.501       5.799\n",
            "S_Ferroso[T.T2]     1.4000      0.527      2.654      0.021       0.251       2.549\n",
            "S_Ferroso[T.T3]    -0.8000      0.527     -1.517      0.155      -1.949       0.349\n",
            "S_Ferroso[T.T4]     0.4000      0.527      0.758      0.463      -0.749       1.549\n",
            "Pesos[T.B2]     -4.406e-16      0.590  -7.47e-16      1.000      -1.285       1.285\n",
            "Pesos[T.B3]         0.7750      0.590      1.314      0.213      -0.510       2.060\n",
            "Pesos[T.B4]      2.207e-15      0.590   3.74e-15      1.000      -1.285       1.285\n",
            "Pesos[T.B5]         0.9750      0.590      1.653      0.124      -0.310       2.260\n",
            "==============================================================================\n",
            "Omnibus:                        2.197   Durbin-Watson:                   1.608\n",
            "Prob(Omnibus):                  0.333   Jarque-Bera (JB):                1.160\n",
            "Skew:                           0.202   Prob(JB):                        0.560\n",
            "Kurtosis:                       1.892   Cond. No.                         6.42\n",
            "==============================================================================\n",
            "\n",
            "Notes:\n",
            "[1] Standard Errors assume that the covariance matrix of the errors is correctly specified.\n"
          ]
        }
      ]
    },
    {
      "cell_type": "code",
      "source": [
        "anova_result3 = sm.stats.anova_lm(modeloDBCA2, typ=2)\n",
        "anova_result3.T"
      ],
      "metadata": {
        "colab": {
          "base_uri": "https://localhost:8080/"
        },
        "id": "oRxLsTr4xucE",
        "outputId": "f4f24edd-a10e-46e4-a48d-cf267821f871"
      },
      "execution_count": null,
      "outputs": [
        {
          "output_type": "execute_result",
          "data": {
            "text/plain": [
              "        S_Ferroso     Pesos  Residual\n",
              "sum_sq  12.550000  3.755000     8.345\n",
              "df       3.000000  4.000000    12.000\n",
              "F        6.015578  1.349910       NaN\n",
              "PR(>F)   0.009644  0.307973       NaN"
            ],
            "text/html": [
              "\n",
              "  <div id=\"df-408d36fd-c2fe-4017-bab1-f020585b94c6\">\n",
              "    <div class=\"colab-df-container\">\n",
              "      <div>\n",
              "<style scoped>\n",
              "    .dataframe tbody tr th:only-of-type {\n",
              "        vertical-align: middle;\n",
              "    }\n",
              "\n",
              "    .dataframe tbody tr th {\n",
              "        vertical-align: top;\n",
              "    }\n",
              "\n",
              "    .dataframe thead th {\n",
              "        text-align: right;\n",
              "    }\n",
              "</style>\n",
              "<table border=\"1\" class=\"dataframe\">\n",
              "  <thead>\n",
              "    <tr style=\"text-align: right;\">\n",
              "      <th></th>\n",
              "      <th>S_Ferroso</th>\n",
              "      <th>Pesos</th>\n",
              "      <th>Residual</th>\n",
              "    </tr>\n",
              "  </thead>\n",
              "  <tbody>\n",
              "    <tr>\n",
              "      <th>sum_sq</th>\n",
              "      <td>12.550000</td>\n",
              "      <td>3.755000</td>\n",
              "      <td>8.345</td>\n",
              "    </tr>\n",
              "    <tr>\n",
              "      <th>df</th>\n",
              "      <td>3.000000</td>\n",
              "      <td>4.000000</td>\n",
              "      <td>12.000</td>\n",
              "    </tr>\n",
              "    <tr>\n",
              "      <th>F</th>\n",
              "      <td>6.015578</td>\n",
              "      <td>1.349910</td>\n",
              "      <td>NaN</td>\n",
              "    </tr>\n",
              "    <tr>\n",
              "      <th>PR(&gt;F)</th>\n",
              "      <td>0.009644</td>\n",
              "      <td>0.307973</td>\n",
              "      <td>NaN</td>\n",
              "    </tr>\n",
              "  </tbody>\n",
              "</table>\n",
              "</div>\n",
              "      <button class=\"colab-df-convert\" onclick=\"convertToInteractive('df-408d36fd-c2fe-4017-bab1-f020585b94c6')\"\n",
              "              title=\"Convert this dataframe to an interactive table.\"\n",
              "              style=\"display:none;\">\n",
              "        \n",
              "  <svg xmlns=\"http://www.w3.org/2000/svg\" height=\"24px\"viewBox=\"0 0 24 24\"\n",
              "       width=\"24px\">\n",
              "    <path d=\"M0 0h24v24H0V0z\" fill=\"none\"/>\n",
              "    <path d=\"M18.56 5.44l.94 2.06.94-2.06 2.06-.94-2.06-.94-.94-2.06-.94 2.06-2.06.94zm-11 1L8.5 8.5l.94-2.06 2.06-.94-2.06-.94L8.5 2.5l-.94 2.06-2.06.94zm10 10l.94 2.06.94-2.06 2.06-.94-2.06-.94-.94-2.06-.94 2.06-2.06.94z\"/><path d=\"M17.41 7.96l-1.37-1.37c-.4-.4-.92-.59-1.43-.59-.52 0-1.04.2-1.43.59L10.3 9.45l-7.72 7.72c-.78.78-.78 2.05 0 2.83L4 21.41c.39.39.9.59 1.41.59.51 0 1.02-.2 1.41-.59l7.78-7.78 2.81-2.81c.8-.78.8-2.07 0-2.86zM5.41 20L4 18.59l7.72-7.72 1.47 1.35L5.41 20z\"/>\n",
              "  </svg>\n",
              "      </button>\n",
              "      \n",
              "  <style>\n",
              "    .colab-df-container {\n",
              "      display:flex;\n",
              "      flex-wrap:wrap;\n",
              "      gap: 12px;\n",
              "    }\n",
              "\n",
              "    .colab-df-convert {\n",
              "      background-color: #E8F0FE;\n",
              "      border: none;\n",
              "      border-radius: 50%;\n",
              "      cursor: pointer;\n",
              "      display: none;\n",
              "      fill: #1967D2;\n",
              "      height: 32px;\n",
              "      padding: 0 0 0 0;\n",
              "      width: 32px;\n",
              "    }\n",
              "\n",
              "    .colab-df-convert:hover {\n",
              "      background-color: #E2EBFA;\n",
              "      box-shadow: 0px 1px 2px rgba(60, 64, 67, 0.3), 0px 1px 3px 1px rgba(60, 64, 67, 0.15);\n",
              "      fill: #174EA6;\n",
              "    }\n",
              "\n",
              "    [theme=dark] .colab-df-convert {\n",
              "      background-color: #3B4455;\n",
              "      fill: #D2E3FC;\n",
              "    }\n",
              "\n",
              "    [theme=dark] .colab-df-convert:hover {\n",
              "      background-color: #434B5C;\n",
              "      box-shadow: 0px 1px 3px 1px rgba(0, 0, 0, 0.15);\n",
              "      filter: drop-shadow(0px 1px 2px rgba(0, 0, 0, 0.3));\n",
              "      fill: #FFFFFF;\n",
              "    }\n",
              "  </style>\n",
              "\n",
              "      <script>\n",
              "        const buttonEl =\n",
              "          document.querySelector('#df-408d36fd-c2fe-4017-bab1-f020585b94c6 button.colab-df-convert');\n",
              "        buttonEl.style.display =\n",
              "          google.colab.kernel.accessAllowed ? 'block' : 'none';\n",
              "\n",
              "        async function convertToInteractive(key) {\n",
              "          const element = document.querySelector('#df-408d36fd-c2fe-4017-bab1-f020585b94c6');\n",
              "          const dataTable =\n",
              "            await google.colab.kernel.invokeFunction('convertToInteractive',\n",
              "                                                     [key], {});\n",
              "          if (!dataTable) return;\n",
              "\n",
              "          const docLinkHtml = 'Like what you see? Visit the ' +\n",
              "            '<a target=\"_blank\" href=https://colab.research.google.com/notebooks/data_table.ipynb>data table notebook</a>'\n",
              "            + ' to learn more about interactive tables.';\n",
              "          element.innerHTML = '';\n",
              "          dataTable['output_type'] = 'display_data';\n",
              "          await google.colab.output.renderOutput(dataTable, element);\n",
              "          const docLink = document.createElement('div');\n",
              "          docLink.innerHTML = docLinkHtml;\n",
              "          element.appendChild(docLink);\n",
              "        }\n",
              "      </script>\n",
              "    </div>\n",
              "  </div>\n",
              "  "
            ]
          },
          "metadata": {},
          "execution_count": 53
        }
      ]
    },
    {
      "cell_type": "code",
      "source": [
        "# **2.9 Análisis de Varianza Tipo II**\n",
        "modeloDBCA2 = smf.ols(\"V_Sanguineo ~ S_Ferroso-1 + Pesos\", data = DBCA).fit()\n",
        "print(modeloDBCA2.summary())"
      ],
      "metadata": {
        "colab": {
          "base_uri": "https://localhost:8080/"
        },
        "id": "zAaYeb9-wCzk",
        "outputId": "863ce4dd-3899-41ef-9f0c-3256243e139c"
      },
      "execution_count": null,
      "outputs": [
        {
          "output_type": "stream",
          "name": "stdout",
          "text": [
            "                            OLS Regression Results                            \n",
            "==============================================================================\n",
            "Dep. Variable:            V_Sanguineo   R-squared:                       0.661\n",
            "Model:                            OLS   Adj. R-squared:                  0.464\n",
            "Method:                 Least Squares   F-statistic:                     3.349\n",
            "Date:                Tue, 09 May 2023   Prob (F-statistic):             0.0321\n",
            "Time:                        22:58:26   Log-Likelihood:                -19.638\n",
            "No. Observations:                  20   AIC:                             55.28\n",
            "Df Residuals:                      12   BIC:                             63.24\n",
            "Df Model:                           7                                         \n",
            "Covariance Type:            nonrobust                                         \n",
            "=================================================================================\n",
            "                    coef    std err          t      P>|t|      [0.025      0.975]\n",
            "---------------------------------------------------------------------------------\n",
            "S_Ferroso[T1]     4.6500      0.527      8.817      0.000       3.501       5.799\n",
            "S_Ferroso[T2]     6.0500      0.527     11.471      0.000       4.901       7.199\n",
            "S_Ferroso[T3]     3.8500      0.527      7.300      0.000       2.701       4.999\n",
            "S_Ferroso[T4]     5.0500      0.527      9.575      0.000       3.901       6.199\n",
            "Pesos[T.B2]    5.464e-15      0.590   9.27e-15      1.000      -1.285       1.285\n",
            "Pesos[T.B3]       0.7750      0.590      1.314      0.213      -0.510       2.060\n",
            "Pesos[T.B4]    4.496e-15      0.590   7.63e-15      1.000      -1.285       1.285\n",
            "Pesos[T.B5]       0.9750      0.590      1.653      0.124      -0.310       2.260\n",
            "==============================================================================\n",
            "Omnibus:                        2.197   Durbin-Watson:                   1.608\n",
            "Prob(Omnibus):                  0.333   Jarque-Bera (JB):                1.160\n",
            "Skew:                           0.202   Prob(JB):                        0.560\n",
            "Kurtosis:                       1.892   Cond. No.                         4.27\n",
            "==============================================================================\n",
            "\n",
            "Notes:\n",
            "[1] Standard Errors assume that the covariance matrix of the errors is correctly specified.\n"
          ]
        }
      ]
    },
    {
      "cell_type": "markdown",
      "source": [
        "# **2.10 Comparaciones Múltiples:S_Ferroso**"
      ],
      "metadata": {
        "id": "PiPKS2zy0V3H"
      }
    },
    {
      "cell_type": "code",
      "source": [
        "\n",
        "# **2.10 Comparaciones Múltiples:S_Ferroso**\n",
        "tukey = pairwise_tukeyhsd(endog=DBCA[\"V_Sanguineo\"],     # Data\n",
        "                          groups=DBCA[\"S_Ferroso\"],   # Groups\n",
        "                          alpha=0.05)          # Significance level\n",
        "\n",
        "tukey.plot_simultaneous()    # Plot group confidence intervals\n",
        "#plt.vlines(x=200,ymin=-0.5,ymax=14.5, color=\"red\")\n",
        "tukey.summary()"
      ],
      "metadata": {
        "colab": {
          "base_uri": "https://localhost:8080/",
          "height": 714
        },
        "id": "ISBtMTF5zguM",
        "outputId": "6a3f5fc0-d9f4-49e0-b45f-3e5cf7358fe4"
      },
      "execution_count": null,
      "outputs": [
        {
          "output_type": "execute_result",
          "data": {
            "text/plain": [
              "<class 'statsmodels.iolib.table.SimpleTable'>"
            ],
            "text/html": [
              "<table class=\"simpletable\">\n",
              "<caption>Multiple Comparison of Means - Tukey HSD, FWER=0.05</caption>\n",
              "<tr>\n",
              "  <th>group1</th> <th>group2</th> <th>meandiff</th>  <th>p-adj</th>  <th>lower</th>   <th>upper</th>  <th>reject</th>\n",
              "</tr>\n",
              "<tr>\n",
              "    <td>T1</td>     <td>T2</td>      <td>1.4</td>   <td>0.0903</td> <td>-0.1736</td> <td>2.9736</td>   <td>False</td>\n",
              "</tr>\n",
              "<tr>\n",
              "    <td>T1</td>     <td>T3</td>     <td>-0.8</td>   <td>0.4858</td> <td>-2.3736</td> <td>0.7736</td>   <td>False</td>\n",
              "</tr>\n",
              "<tr>\n",
              "    <td>T1</td>     <td>T4</td>      <td>0.4</td>   <td>0.8848</td> <td>-1.1736</td> <td>1.9736</td>   <td>False</td>\n",
              "</tr>\n",
              "<tr>\n",
              "    <td>T2</td>     <td>T3</td>     <td>-2.2</td>   <td>0.0051</td> <td>-3.7736</td> <td>-0.6264</td>  <td>True</td> \n",
              "</tr>\n",
              "<tr>\n",
              "    <td>T2</td>     <td>T4</td>     <td>-1.0</td>   <td>0.3011</td> <td>-2.5736</td> <td>0.5736</td>   <td>False</td>\n",
              "</tr>\n",
              "<tr>\n",
              "    <td>T3</td>     <td>T4</td>      <td>1.2</td>   <td>0.1705</td> <td>-0.3736</td> <td>2.7736</td>   <td>False</td>\n",
              "</tr>\n",
              "</table>"
            ]
          },
          "metadata": {},
          "execution_count": 55
        },
        {
          "output_type": "display_data",
          "data": {
            "text/plain": [
              "<Figure size 1000x600 with 1 Axes>"
            ],
            "image/png": "[encoded data removed]"
          },
          "metadata": {}
        }
      ]
    },
    {
      "cell_type": "markdown",
      "source": [
        "# **2.11 Comparaciones Múltiples:Pesos**"
      ],
      "metadata": {
        "id": "9AT-VBr80jxm"
      }
    },
    {
      "cell_type": "code",
      "source": [
        "\n",
        "# **2.11 Comparaciones Múltiples:Pesos**\n",
        "tukey = pairwise_tukeyhsd(endog=DBCA[\"V_Sanguineo\"],     # Data\n",
        "                          groups=DBCA[\"Pesos\"],   # Groups\n",
        "                          alpha=0.05)          # Significance level\n",
        "\n",
        "tukey.plot_simultaneous()    # Plot group confidence intervals\n",
        "#plt.vlines(x=200,ymin=-0.5,ymax=14.5, color=\"red\")\n",
        "tukey.summary()"
      ],
      "metadata": {
        "colab": {
          "base_uri": "https://localhost:8080/",
          "height": 817
        },
        "id": "P_tHVpZP0Y_V",
        "outputId": "a0a83435-26a2-4012-f865-cb9f660b7196"
      },
      "execution_count": null,
      "outputs": [
        {
          "output_type": "execute_result",
          "data": {
            "text/plain": [
              "<class 'statsmodels.iolib.table.SimpleTable'>"
            ],
            "text/html": [
              "<table class=\"simpletable\">\n",
              "<caption>Multiple Comparison of Means - Tukey HSD, FWER=0.05</caption>\n",
              "<tr>\n",
              "  <th>group1</th> <th>group2</th> <th>meandiff</th>  <th>p-adj</th>  <th>lower</th>   <th>upper</th> <th>reject</th>\n",
              "</tr>\n",
              "<tr>\n",
              "    <td>B1</td>     <td>B2</td>     <td>-0.0</td>     <td>1.0</td>  <td>-2.5771</td> <td>2.5771</td>  <td>False</td>\n",
              "</tr>\n",
              "<tr>\n",
              "    <td>B1</td>     <td>B3</td>     <td>0.775</td>  <td>0.8814</td> <td>-1.8021</td> <td>3.3521</td>  <td>False</td>\n",
              "</tr>\n",
              "<tr>\n",
              "    <td>B1</td>     <td>B4</td>     <td>-0.0</td>     <td>1.0</td>  <td>-2.5771</td> <td>2.5771</td>  <td>False</td>\n",
              "</tr>\n",
              "<tr>\n",
              "    <td>B1</td>     <td>B5</td>     <td>0.975</td>  <td>0.7686</td> <td>-1.6021</td> <td>3.5521</td>  <td>False</td>\n",
              "</tr>\n",
              "<tr>\n",
              "    <td>B2</td>     <td>B3</td>     <td>0.775</td>  <td>0.8814</td> <td>-1.8021</td> <td>3.3521</td>  <td>False</td>\n",
              "</tr>\n",
              "<tr>\n",
              "    <td>B2</td>     <td>B4</td>      <td>0.0</td>     <td>1.0</td>  <td>-2.5771</td> <td>2.5771</td>  <td>False</td>\n",
              "</tr>\n",
              "<tr>\n",
              "    <td>B2</td>     <td>B5</td>     <td>0.975</td>  <td>0.7686</td> <td>-1.6021</td> <td>3.5521</td>  <td>False</td>\n",
              "</tr>\n",
              "<tr>\n",
              "    <td>B3</td>     <td>B4</td>    <td>-0.775</td>  <td>0.8814</td> <td>-3.3521</td> <td>1.8021</td>  <td>False</td>\n",
              "</tr>\n",
              "<tr>\n",
              "    <td>B3</td>     <td>B5</td>      <td>0.2</td>   <td>0.9992</td> <td>-2.3771</td> <td>2.7771</td>  <td>False</td>\n",
              "</tr>\n",
              "<tr>\n",
              "    <td>B4</td>     <td>B5</td>     <td>0.975</td>  <td>0.7686</td> <td>-1.6021</td> <td>3.5521</td>  <td>False</td>\n",
              "</tr>\n",
              "</table>"
            ]
          },
          "metadata": {},
          "execution_count": 56
        },
        {
          "output_type": "display_data",
          "data": {
            "text/plain": [
              "<Figure size 1000x600 with 1 Axes>"
            ],
            "image/png": "[encoded data removed]"
          },
          "metadata": {}
        }
      ]
    },
    {
      "cell_type": "markdown",
      "source": [
        "# **2.12 Supuesto del Modelo: Normalidad Prueba de  Shapiro Wilks**"
      ],
      "metadata": {
        "id": "Jb1RjulT3YVd"
      }
    },
    {
      "cell_type": "code",
      "source": [
        "\n",
        "# **3.12 Supuesto del Modelo: Normalidad Prueba de  Shapiro Wilks**\n",
        "w, pvalue = stats.shapiro(modeloDBCA.resid)\n",
        "print(w, pvalue)"
      ],
      "metadata": {
        "colab": {
          "base_uri": "https://localhost:8080/"
        },
        "id": "9DSUaVkq2Ddz",
        "outputId": "1dc96c2f-13a2-4923-b333-42196240fa58"
      },
      "execution_count": null,
      "outputs": [
        {
          "output_type": "stream",
          "name": "stdout",
          "text": [
            "0.955288290977478 0.4545067846775055\n"
          ]
        }
      ]
    },
    {
      "cell_type": "markdown",
      "source": [
        "# **2.13  Supuesto del Modelo: Normalidad: Prueba gráfica con el gráfico de probabilidad Normal y el Histograma**"
      ],
      "metadata": {
        "id": "1PNAteHY3-dx"
      }
    },
    {
      "cell_type": "code",
      "source": [
        "# **2.13  Supuesto del Modelo: Normalidad: Prueba gráfica con el gráfico de probabilidad Normal y el Histograma**\n",
        "fig = plt.figure(figsize= (5, 5))\n",
        "ax = fig.add_subplot(111)\n",
        "normality_plot, stat = stats.probplot(modeloDBCA.resid, plot= plt, rvalue= False)\n",
        "ax.set_title(\"Gráfico de Probabiliad para los residuos\", fontsize= 10)\n",
        "ax.set\n",
        "\n",
        "plt.show()"
      ],
      "metadata": {
        "colab": {
          "base_uri": "https://localhost:8080/"
        },
        "id": "Xr0FQW6E2DhZ",
        "outputId": "6f3b5cee-f34d-4c06-a7d8-5b70ec851957"
      },
      "execution_count": null,
      "outputs": [
        {
          "output_type": "display_data",
          "data": {
            "text/plain": [
              "<Figure size 500x500 with 1 Axes>"
            ],
            "image/png": "[encoded data removed]"
          },
          "metadata": {}
        }
      ]
    },
    {
      "cell_type": "markdown",
      "source": [
        "# **2.14 Residuos del Modelo**"
      ],
      "metadata": {
        "id": "nHkFe3Iv64uN"
      }
    },
    {
      "cell_type": "code",
      "source": [
        "# **2.14 Residuos del Modelo**\n",
        "modeloDBCA.resid.describe()"
      ],
      "metadata": {
        "colab": {
          "base_uri": "https://localhost:8080/"
        },
        "id": "fJ_00hnu2Dk2",
        "outputId": "5825d46d-e370-4ef5-c0ce-3d7f35a1e3be"
      },
      "execution_count": null,
      "outputs": [
        {
          "output_type": "execute_result",
          "data": {
            "text/plain": [
              "count    2.000000e+01\n",
              "mean     6.217249e-16\n",
              "std      6.627296e-01\n",
              "min     -1.025000e+00\n",
              "25%     -5.500000e-01\n",
              "50%     -2.500000e-02\n",
              "75%      4.500000e-01\n",
              "max      1.150000e+00\n",
              "dtype: float64"
            ]
          },
          "metadata": {},
          "execution_count": 59
        }
      ]
    },
    {
      "cell_type": "markdown",
      "source": [
        "# **2.15 Histograma de Residuos**"
      ],
      "metadata": {
        "id": "ExO2IA3y689v"
      }
    },
    {
      "cell_type": "code",
      "source": [
        "\n",
        "# **2.15 Histograma de Residuos**\n",
        "plt.hist(modeloDBCA.resid, bins='auto', histtype='bar', ec='k')\n",
        "\n",
        "plt.xlabel(\"Residuals\")\n",
        "plt.ylabel('Frecuencia')\n",
        "plt.show()\n"
      ],
      "metadata": {
        "colab": {
          "base_uri": "https://localhost:8080/",
          "height": 449
        },
        "id": "D0KK4C8K6DME",
        "outputId": "bcea930b-6472-4d15-9d46-f2de7f13e7b7"
      },
      "execution_count": null,
      "outputs": [
        {
          "output_type": "display_data",
          "data": {
            "text/plain": [
              "<Figure size 640x480 with 1 Axes>"
            ],
            "image/png": "[encoded data removed]"
          },
          "metadata": {}
        }
      ]
    },
    {
      "cell_type": "markdown",
      "source": [
        "# **2.16 Histograma + curva normal teórica**"
      ],
      "metadata": {
        "id": "RVrKPGQt7Cwt"
      }
    },
    {
      "cell_type": "code",
      "source": [
        "# **2.16 Histograma + curva normal teórica**\n",
        "# ==============================================================================\n",
        "Volumen = modeloDBCA.resid\n",
        "# Valores de la media (mu) y desviación típica (sigma) de los datos\n",
        "mu, sigma = stats.norm.fit(Volumen)\n",
        "\n",
        "# Valores teóricos de la normal en el rango observado\n",
        "x_hat = np.linspace(min(Volumen), max(Volumen), num=20)\n",
        "y_hat = stats.norm.pdf(x_hat, mu, sigma)\n",
        "\n",
        "# Gráfico\n",
        "fig, ax = plt.subplots(figsize=(7,4))\n",
        "ax.plot(x_hat, y_hat, linewidth=2, label='normal')\n",
        "ax.hist(x=Volumen, density=True, bins=30,  alpha=0.5)\n",
        "ax.plot(Volumen, np.full_like(Volumen, -0.01), '|k', markeredgewidth=1)\n",
        "ax.set_title('Distribución del Volumen')\n",
        "ax.set_xlabel('Volumen')\n",
        "ax.set_ylabel('Densidad de probabilidad')\n",
        "ax.legend();"
      ],
      "metadata": {
        "colab": {
          "base_uri": "https://localhost:8080/",
          "height": 410
        },
        "id": "KCCn1tl82Dok",
        "outputId": "d7f8a13a-dd29-488a-c8e3-6ea229d8d4f7"
      },
      "execution_count": null,
      "outputs": [
        {
          "output_type": "display_data",
          "data": {
            "text/plain": [
              "<Figure size 700x400 with 1 Axes>"
            ],
            "image/png": "[encoded data removed]"
          },
          "metadata": {}
        }
      ]
    },
    {
      "cell_type": "markdown",
      "source": [
        "# **2.17 Gráfico Q-Q**"
      ],
      "metadata": {
        "id": "TNn6hqqw7ln-"
      }
    },
    {
      "cell_type": "code",
      "source": [
        "# **2.17 Gráfico Q-Q**\n",
        "# ==============================================================================\n",
        "fig, ax = plt.subplots(figsize=(7,4))\n",
        "sm.qqplot(\n",
        "    Volumen,\n",
        "    fit   = True,\n",
        "    line  = 'q',\n",
        "    alpha = 0.8,\n",
        "    lw    = 5,\n",
        "    ax    = ax\n",
        ")\n",
        "ax.set_title('Gráfico Q-Q para Volumen', fontsize = 10,\n",
        "             fontweight = \"bold\")\n",
        "ax.tick_params(labelsize = 8)"
      ],
      "metadata": {
        "colab": {
          "base_uri": "https://localhost:8080/"
        },
        "id": "_cEQAhOO7WHo",
        "outputId": "4951b489-2277-4ab1-8bb3-8129bc1a8b11"
      },
      "execution_count": null,
      "outputs": [
        {
          "output_type": "display_data",
          "data": {
            "text/plain": [
              "<Figure size 700x400 with 1 Axes>"
            ],
            "image/png": "[encoded data removed]"
          },
          "metadata": {}
        }
      ]
    },
    {
      "cell_type": "code",
      "source": [
        "# 2.18. Homocedasticidad de los residuos: Usando la prueba de Levene\n",
        "stats.levene(DBCA['V_Sanguineo'][DBCA['S_Ferroso'] == 'T1'],\n",
        "             DBCA['V_Sanguineo'][DBCA['S_Ferroso'] == 'T2'],\n",
        "             DBCA['V_Sanguineo'][DBCA['S_Ferroso'] == 'T3'],\n",
        "             DBCA['V_Sanguineo'][DBCA['S_Ferroso'] == 'T4'])"
      ],
      "metadata": {
        "id": "rXoerXiz7o5t",
        "colab": {
          "base_uri": "https://localhost:8080/"
        },
        "outputId": "3fa831e5-78f5-4f2a-a3d6-785abe20f5aa"
      },
      "execution_count": null,
      "outputs": [
        {
          "output_type": "execute_result",
          "data": {
            "text/plain": [
              "LeveneResult(statistic=1.2169576059850375, pvalue=0.33572362617286766)"
            ]
          },
          "metadata": {},
          "execution_count": 63
        }
      ]
    }
  ],
  "metadata": {
    "colab": {
      "provenance": [],
      "authorship_tag": "ABX9TyPCDZW4Z0r98q3aN0C6DLYj",
      "include_colab_link": true
    },
    "kernelspec": {
      "display_name": "Python 3",
      "name": "python3"
    },
    "language_info": {
      "name": "python"
    }
  },
  "nbformat": 4,
  "nbformat_minor": 0
}