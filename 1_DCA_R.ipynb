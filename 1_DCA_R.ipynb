{
  "nbformat": 4,
  "nbformat_minor": 0,
  "metadata": {
    "colab": {
      "provenance": [],
      "authorship_tag": "ABX9TyNRQMtC8SGsKWBs/Szs5wcp",
      "include_colab_link": true
    },
    "kernelspec": {
      "name": "python3",
      "display_name": "Python 3"
    },
    "language_info": {
      "name": "python"
    }
  },
  "cells": [
    {
      "cell_type": "markdown",
      "metadata": {
        "id": "view-in-github",
        "colab_type": "text"
      },
      "source": [
        "<a href=\"https://colab.research.google.com/github/JSEFERINO/Dise-o_de_Experimentos_DOE/blob/main/1_DCA_R.ipynb\" target=\"_parent\"><img src=\"https://colab.research.google.com/assets/colab-badge.svg\" alt=\"Open In Colab\"/></a>"
      ]
    },
    {
      "cell_type": "markdown",
      "source": [],
      "metadata": {
        "id": "Pu-EmGTn08wr"
      }
    },
    {
      "cell_type": "code",
      "source": [
        "%load_ext rpy2.ipython"
      ],
      "metadata": {
        "id": "VbpNLEKn0788"
      },
      "execution_count": 1,
      "outputs": []
    },
    {
      "cell_type": "code",
      "source": [
        "import logging\n",
        "logging.getLogger('rpy2').setLevel(logging.ERROR)"
      ],
      "metadata": {
        "id": "Npv2qkP008AC"
      },
      "execution_count": 2,
      "outputs": []
    },
    {
      "cell_type": "code",
      "source": [
        "%%R\n",
        "install.packages(\"gridExtra\")\n",
        "install.packages(\"ggplot2\")\n",
        "library(gridExtra)\n",
        "library(ggplot2)"
      ],
      "metadata": {
        "id": "VEA-rvC-08Da"
      },
      "execution_count": 3,
      "outputs": []
    },
    {
      "cell_type": "code",
      "source": [
        "%%R\n",
        "# Datos del Problema Tipos de Cuero T.CUERO\n",
        "A<-c(264, 260, 258, 241, 262, 255)\n",
        "B<-c(208, 220, 216, 200, 213, 206)\n",
        "C<-c(220, 263, 219, 225, 230, 228)\n",
        "D<-c(217, 226, 215, 224, 220, 222)"
      ],
      "metadata": {
        "id": "hJctxXfU08G6"
      },
      "execution_count": 4,
      "outputs": []
    },
    {
      "cell_type": "code",
      "source": [
        "%%R\n",
        "T.CUERO <-matrix(c(A, B, C, D),nrow = 6,ncol = 4)\n",
        "T.CUERO"
      ],
      "metadata": {
        "id": "CgEx_tTv08KS",
        "colab": {
          "base_uri": "https://localhost:8080/"
        },
        "outputId": "551f73c1-7bfb-481c-c86f-c78ed7aebe4d"
      },
      "execution_count": 5,
      "outputs": [
        {
          "output_type": "stream",
          "name": "stdout",
          "text": [
            "     [,1] [,2] [,3] [,4]\n",
            "[1,]  264  208  220  217\n",
            "[2,]  260  220  263  226\n",
            "[3,]  258  216  219  215\n",
            "[4,]  241  200  225  224\n",
            "[5,]  262  213  230  220\n",
            "[6,]  255  206  228  222\n"
          ]
        }
      ]
    },
    {
      "cell_type": "code",
      "source": [
        "%%R\n",
        "colnames(T.CUERO)<-c(\"A\", \"B\", \"C\", \"D\")\n",
        "T.CUERO"
      ],
      "metadata": {
        "colab": {
          "base_uri": "https://localhost:8080/"
        },
        "id": "Gu1euAoGNo3L",
        "outputId": "3eec63bb-2109-4f44-b1c4-3717db029f2a"
      },
      "execution_count": 6,
      "outputs": [
        {
          "output_type": "stream",
          "name": "stdout",
          "text": [
            "       A   B   C   D\n",
            "[1,] 264 208 220 217\n",
            "[2,] 260 220 263 226\n",
            "[3,] 258 216 219 215\n",
            "[4,] 241 200 225 224\n",
            "[5,] 262 213 230 220\n",
            "[6,] 255 206 228 222\n"
          ]
        }
      ]
    },
    {
      "cell_type": "code",
      "source": [
        "%%R\n",
        "rownames(T.CUERO)<-c(\"1\",\"2\",\"3\",\"4\",\"5\",\"6\")\n",
        "T.CUERO"
      ],
      "metadata": {
        "colab": {
          "base_uri": "https://localhost:8080/"
        },
        "id": "wWEnlIaYNo7K",
        "outputId": "ec4e2025-16ea-46ab-d14c-e09343961773"
      },
      "execution_count": 7,
      "outputs": [
        {
          "output_type": "stream",
          "name": "stdout",
          "text": [
            "    A   B   C   D\n",
            "1 264 208 220 217\n",
            "2 260 220 263 226\n",
            "3 258 216 219 215\n",
            "4 241 200 225 224\n",
            "5 262 213 230 220\n",
            "6 255 206 228 222\n"
          ]
        }
      ]
    },
    {
      "cell_type": "code",
      "source": [
        "%%R\n",
        "summary(T.CUERO)"
      ],
      "metadata": {
        "colab": {
          "base_uri": "https://localhost:8080/"
        },
        "id": "tClf5OMRNo_D",
        "outputId": "fe2087ef-4426-4383-f337-ca855fee4826"
      },
      "execution_count": 8,
      "outputs": [
        {
          "output_type": "stream",
          "name": "stdout",
          "text": [
            "       A               B               C               D        \n",
            " Min.   :241.0   Min.   :200.0   Min.   :219.0   Min.   :215.0  \n",
            " 1st Qu.:255.8   1st Qu.:206.5   1st Qu.:221.2   1st Qu.:217.8  \n",
            " Median :259.0   Median :210.5   Median :226.5   Median :221.0  \n",
            " Mean   :256.7   Mean   :210.5   Mean   :230.8   Mean   :220.7  \n",
            " 3rd Qu.:261.5   3rd Qu.:215.2   3rd Qu.:229.5   3rd Qu.:223.5  \n",
            " Max.   :264.0   Max.   :220.0   Max.   :263.0   Max.   :226.0  \n"
          ]
        }
      ]
    },
    {
      "cell_type": "code",
      "source": [
        "%%R\n",
        "boxplot(T.CUERO, col=c(\"red\", \"blue\", \"yellow\", \"orange\"))"
      ],
      "metadata": {
        "colab": {
          "base_uri": "https://localhost:8080/",
          "height": 497
        },
        "id": "KC6B5PhUNpC6",
        "outputId": "1a7bcdf4-b5f6-4721-cf5a-eaab89ffe04f"
      },
      "execution_count": 9,
      "outputs": [
        {
          "output_type": "display_data",
          "data": {
            "image/png": "[encoded data removed]"
          },
          "metadata": {}
        }
      ]
    },
    {
      "cell_type": "code",
      "source": [
        "%%R\n",
        "set.seed(7638)\n",
        "T.CUERO2 <- factor( rep( c(\"A\", \"B\", \"C\",\"D\" ), each = 6))\n",
        "Desgaste <- c(264,  260,    258,    241,    262,    255, 208,   220,    216,    200,    213,    206, 220,   263,    219,    225,    230,    228, 217,   226,    215,    224,    220,    222)\n",
        "DCA <- data.frame( T.CUERO2, Desgaste )\n",
        "DCA"
      ],
      "metadata": {
        "colab": {
          "base_uri": "https://localhost:8080/"
        },
        "id": "2TSJNS-LN7YP",
        "outputId": "d31e29e3-7a12-42ad-f2a0-607d1e967e42"
      },
      "execution_count": 10,
      "outputs": [
        {
          "output_type": "stream",
          "name": "stdout",
          "text": [
            "   T.CUERO2 Desgaste\n",
            "1         A      264\n",
            "2         A      260\n",
            "3         A      258\n",
            "4         A      241\n",
            "5         A      262\n",
            "6         A      255\n",
            "7         B      208\n",
            "8         B      220\n",
            "9         B      216\n",
            "10        B      200\n",
            "11        B      213\n",
            "12        B      206\n",
            "13        C      220\n",
            "14        C      263\n",
            "15        C      219\n",
            "16        C      225\n",
            "17        C      230\n",
            "18        C      228\n",
            "19        D      217\n",
            "20        D      226\n",
            "21        D      215\n",
            "22        D      224\n",
            "23        D      220\n",
            "24        D      222\n"
          ]
        }
      ]
    },
    {
      "cell_type": "code",
      "source": [
        "%%R\n",
        "summary(DCA, f=TRUE)"
      ],
      "metadata": {
        "colab": {
          "base_uri": "https://localhost:8080/"
        },
        "id": "J7ZFi7i3N8MX",
        "outputId": "c01709da-0de1-43ee-eea3-600593090e71"
      },
      "execution_count": 11,
      "outputs": [
        {
          "output_type": "stream",
          "name": "stdout",
          "text": [
            " T.CUERO2    Desgaste    \n",
            " A:6      Min.   :200.0  \n",
            " B:6      1st Qu.:216.8  \n",
            " C:6      Median :223.0  \n",
            " D:6      Mean   :229.7  \n",
            "          3rd Qu.:244.5  \n",
            "          Max.   :264.0  \n"
          ]
        }
      ]
    },
    {
      "cell_type": "code",
      "source": [
        "%%R\n",
        "plot(Desgaste ~ T.CUERO2, data=DCA, col=c(\"red\", \"blue\", \"yellow\", \"orange\"))"
      ],
      "metadata": {
        "colab": {
          "base_uri": "https://localhost:8080/",
          "height": 497
        },
        "id": "y5gfoNfnN8jv",
        "outputId": "595378e0-91c4-4ec9-951a-346c42623bee"
      },
      "execution_count": 12,
      "outputs": [
        {
          "output_type": "display_data",
          "data": {
            "image/png": "[encoded data removed]"
          },
          "metadata": {}
        }
      ]
    },
    {
      "cell_type": "code",
      "source": [
        "%%R\n",
        "g <- lm(Desgaste ~ T.CUERO2, data=DCA)\n",
        "summary(g)"
      ],
      "metadata": {
        "colab": {
          "base_uri": "https://localhost:8080/"
        },
        "id": "liqaORKON83B",
        "outputId": "6a2ea546-5286-468d-b927-1c8860debc4d"
      },
      "execution_count": 14,
      "outputs": [
        {
          "output_type": "stream",
          "name": "stdout",
          "text": [
            "\n",
            "Call:\n",
            "lm(formula = Desgaste ~ T.CUERO2, data = DCA)\n",
            "\n",
            "Residuals:\n",
            "    Min      1Q  Median      3Q     Max \n",
            "-15.667  -4.792  -0.750   3.833  32.167 \n",
            "\n",
            "Coefficients:\n",
            "            Estimate Std. Error t value Pr(>|t|)    \n",
            "(Intercept)  256.667      4.112  62.419  < 2e-16 ***\n",
            "T.CUERO2B    -46.167      5.815  -7.939 1.31e-07 ***\n",
            "T.CUERO2C    -25.833      5.815  -4.442  0.00025 ***\n",
            "T.CUERO2D    -36.000      5.815  -6.191 4.78e-06 ***\n",
            "---\n",
            "Signif. codes:  0 ‘***’ 0.001 ‘**’ 0.01 ‘*’ 0.05 ‘.’ 0.1 ‘ ’ 1\n",
            "\n",
            "Residual standard error: 10.07 on 20 degrees of freedom\n",
            "Multiple R-squared:  0.7771,\tAdjusted R-squared:  0.7436 \n",
            "F-statistic: 23.24 on 3 and 20 DF,  p-value: 1.002e-06\n",
            "\n"
          ]
        }
      ]
    },
    {
      "cell_type": "code",
      "source": [
        "%%R\n",
        "anova(g)"
      ],
      "metadata": {
        "colab": {
          "base_uri": "https://localhost:8080/"
        },
        "id": "wZVb_yQLN9Q2",
        "outputId": "99f5cbc1-7831-48c2-e357-623449e28b72"
      },
      "execution_count": 15,
      "outputs": [
        {
          "output_type": "stream",
          "name": "stdout",
          "text": [
            "Analysis of Variance Table\n",
            "\n",
            "Response: Desgaste\n",
            "          Df Sum Sq Mean Sq F value    Pr(>F)    \n",
            "T.CUERO2   3 7072.3 2357.44  23.238 1.002e-06 ***\n",
            "Residuals 20 2029.0  101.45                      \n",
            "---\n",
            "Signif. codes:  0 ‘***’ 0.001 ‘**’ 0.01 ‘*’ 0.05 ‘.’ 0.1 ‘ ’ 1\n"
          ]
        }
      ]
    },
    {
      "cell_type": "code",
      "source": [
        "%%R\n",
        "names(g)"
      ],
      "metadata": {
        "colab": {
          "base_uri": "https://localhost:8080/"
        },
        "id": "JPlxlzWoON0r",
        "outputId": "2d46e2ca-04a8-40c5-c484-b6d1482c4971"
      },
      "execution_count": 16,
      "outputs": [
        {
          "output_type": "stream",
          "name": "stdout",
          "text": [
            " [1] \"coefficients\"  \"residuals\"     \"effects\"       \"rank\"         \n",
            " [5] \"fitted.values\" \"assign\"        \"qr\"            \"df.residual\"  \n",
            " [9] \"contrasts\"     \"xlevels\"       \"call\"          \"terms\"        \n",
            "[13] \"model\"        \n"
          ]
        }
      ]
    },
    {
      "cell_type": "code",
      "source": [
        "%%R\n",
        "qqnorm(g$res, main = \"Distribución de residuos para la variable Desgaste\",col=\"red\", lwd=3)\n",
        "qqline(g$res, col=\"blue\", lwd=3)"
      ],
      "metadata": {
        "colab": {
          "base_uri": "https://localhost:8080/",
          "height": 497
        },
        "id": "kG9Ee_oVOOZ7",
        "outputId": "570a2a0f-485b-433e-d363-7c880c92995a"
      },
      "execution_count": 17,
      "outputs": [
        {
          "output_type": "display_data",
          "data": {
            "image/png": "[encoded data removed]"
          },
          "metadata": {}
        }
      ]
    },
    {
      "cell_type": "code",
      "source": [
        "%%R\n",
        "mean(g$res)"
      ],
      "metadata": {
        "colab": {
          "base_uri": "https://localhost:8080/"
        },
        "id": "gJSf9Xt0OO1r",
        "outputId": "997ada78-3ea9-4208-81b2-66eb1c4c19c1"
      },
      "execution_count": 20,
      "outputs": [
        {
          "output_type": "stream",
          "name": "stdout",
          "text": [
            "[1] -9.138921e-18\n"
          ]
        }
      ]
    },
    {
      "cell_type": "code",
      "source": [
        "%%R\n",
        "sd(g$res)"
      ],
      "metadata": {
        "colab": {
          "base_uri": "https://localhost:8080/"
        },
        "id": "MNVtW4sfOdu2",
        "outputId": "e8dcc966-4fcc-40ae-d36c-db6182a8f5bd"
      },
      "execution_count": 19,
      "outputs": [
        {
          "output_type": "stream",
          "name": "stdout",
          "text": [
            "[1] 9.392411\n"
          ]
        }
      ]
    },
    {
      "cell_type": "code",
      "source": [
        "%%R\n",
        "g$res"
      ],
      "metadata": {
        "colab": {
          "base_uri": "https://localhost:8080/"
        },
        "id": "h7O_ACydOeZl",
        "outputId": "76a7d42e-d6cc-4f9a-97cb-b2b1ed945678"
      },
      "execution_count": 21,
      "outputs": [
        {
          "output_type": "stream",
          "name": "stdout",
          "text": [
            "          1           2           3           4           5           6 \n",
            "  7.3333333   3.3333333   1.3333333 -15.6666667   5.3333333  -1.6666667 \n",
            "          7           8           9          10          11          12 \n",
            " -2.5000000   9.5000000   5.5000000 -10.5000000   2.5000000  -4.5000000 \n",
            "         13          14          15          16          17          18 \n",
            "-10.8333333  32.1666667 -11.8333333  -5.8333333  -0.8333333  -2.8333333 \n",
            "         19          20          21          22          23          24 \n",
            " -3.6666667   5.3333333  -5.6666667   3.3333333  -0.6666667   1.3333333 \n"
          ]
        }
      ]
    },
    {
      "cell_type": "code",
      "source": [
        "%%R\n",
        "plot(g$fit,g$res,xlab=\"Predichos\",ylab=\"Residuos\",\n",
        "main=\"Gráfico Residuos-Predichos\", col=\"blue\", lwd=3)"
      ],
      "metadata": {
        "colab": {
          "base_uri": "https://localhost:8080/",
          "height": 497
        },
        "id": "O6cSptMEOPYi",
        "outputId": "7368b3e0-a2e9-46a7-c12d-f2b2e340f706"
      },
      "execution_count": 22,
      "outputs": [
        {
          "output_type": "display_data",
          "data": {
            "image/png": "[encoded data removed]"
          },
          "metadata": {}
        }
      ]
    },
    {
      "cell_type": "code",
      "source": [
        "%%R\n",
        "plot(jitter(g$fit),g$res,xlab=\"Predichos\",ylab=\"Residuos\",\n",
        "main=\"Jittered plot\", col=\"blue\", lwd=3)"
      ],
      "metadata": {
        "colab": {
          "base_uri": "https://localhost:8080/",
          "height": 497
        },
        "id": "iLdYRIDGOynX",
        "outputId": "b9d26ebe-22b8-4f99-ecf0-d0cfb9ab29c4"
      },
      "execution_count": 23,
      "outputs": [
        {
          "output_type": "display_data",
          "data": {
            "image/png": "[encoded data removed]"
          },
          "metadata": {}
        }
      ]
    },
    {
      "cell_type": "code",
      "source": [
        "%%R\n",
        "g <- lm(Desgaste ~ T.CUERO2, data=DCA)\n",
        "summary(g)"
      ],
      "metadata": {
        "colab": {
          "base_uri": "https://localhost:8080/"
        },
        "id": "iYr5uefJOzMO",
        "outputId": "dd337ffd-56bb-48ef-f676-9091df9da438"
      },
      "execution_count": 24,
      "outputs": [
        {
          "output_type": "stream",
          "name": "stdout",
          "text": [
            "\n",
            "Call:\n",
            "lm(formula = Desgaste ~ T.CUERO2, data = DCA)\n",
            "\n",
            "Residuals:\n",
            "    Min      1Q  Median      3Q     Max \n",
            "-15.667  -4.792  -0.750   3.833  32.167 \n",
            "\n",
            "Coefficients:\n",
            "            Estimate Std. Error t value Pr(>|t|)    \n",
            "(Intercept)  256.667      4.112  62.419  < 2e-16 ***\n",
            "T.CUERO2B    -46.167      5.815  -7.939 1.31e-07 ***\n",
            "T.CUERO2C    -25.833      5.815  -4.442  0.00025 ***\n",
            "T.CUERO2D    -36.000      5.815  -6.191 4.78e-06 ***\n",
            "---\n",
            "Signif. codes:  0 ‘***’ 0.001 ‘**’ 0.01 ‘*’ 0.05 ‘.’ 0.1 ‘ ’ 1\n",
            "\n",
            "Residual standard error: 10.07 on 20 degrees of freedom\n",
            "Multiple R-squared:  0.7771,\tAdjusted R-squared:  0.7436 \n",
            "F-statistic: 23.24 on 3 and 20 DF,  p-value: 1.002e-06\n",
            "\n"
          ]
        }
      ]
    },
    {
      "cell_type": "code",
      "source": [
        "%%R\n",
        "DCA$T.CUERO2 <- relevel(DCA$T.CUERO2,ref=\"B\")\n",
        "g <- lm(Desgaste ~ T.CUERO2, data=DCA)\n",
        "summary(g)"
      ],
      "metadata": {
        "colab": {
          "base_uri": "https://localhost:8080/"
        },
        "id": "fA4sLR8OOzov",
        "outputId": "d4bc87b3-5321-4249-ae5a-0c53ca9f61bc"
      },
      "execution_count": 25,
      "outputs": [
        {
          "output_type": "stream",
          "name": "stdout",
          "text": [
            "\n",
            "Call:\n",
            "lm(formula = Desgaste ~ T.CUERO2, data = DCA)\n",
            "\n",
            "Residuals:\n",
            "    Min      1Q  Median      3Q     Max \n",
            "-15.667  -4.792  -0.750   3.833  32.167 \n",
            "\n",
            "Coefficients:\n",
            "            Estimate Std. Error t value Pr(>|t|)    \n",
            "(Intercept)  210.500      4.112  51.192  < 2e-16 ***\n",
            "T.CUERO2A     46.167      5.815   7.939 1.31e-07 ***\n",
            "T.CUERO2C     20.333      5.815   3.497  0.00227 ** \n",
            "T.CUERO2D     10.167      5.815   1.748  0.09575 .  \n",
            "---\n",
            "Signif. codes:  0 ‘***’ 0.001 ‘**’ 0.01 ‘*’ 0.05 ‘.’ 0.1 ‘ ’ 1\n",
            "\n",
            "Residual standard error: 10.07 on 20 degrees of freedom\n",
            "Multiple R-squared:  0.7771,\tAdjusted R-squared:  0.7436 \n",
            "F-statistic: 23.24 on 3 and 20 DF,  p-value: 1.002e-06\n",
            "\n"
          ]
        }
      ]
    },
    {
      "cell_type": "code",
      "source": [
        "%%R\n",
        "anova(g)"
      ],
      "metadata": {
        "colab": {
          "base_uri": "https://localhost:8080/"
        },
        "id": "emBQ2OtlP2Rx",
        "outputId": "a69fc19e-6bc4-4081-b133-6768394155e8"
      },
      "execution_count": 27,
      "outputs": [
        {
          "output_type": "stream",
          "name": "stdout",
          "text": [
            "Analysis of Variance Table\n",
            "\n",
            "Response: Desgaste\n",
            "          Df Sum Sq Mean Sq F value    Pr(>F)    \n",
            "T.CUERO2   3 7072.3 2357.44  23.238 1.002e-06 ***\n",
            "Residuals 20 2029.0  101.45                      \n",
            "---\n",
            "Signif. codes:  0 ‘***’ 0.001 ‘**’ 0.01 ‘*’ 0.05 ‘.’ 0.1 ‘ ’ 1\n"
          ]
        }
      ]
    }
  ]
}